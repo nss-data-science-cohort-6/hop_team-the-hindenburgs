{
 "cells": [
  {
   "cell_type": "code",
   "execution_count": 46,
   "metadata": {},
   "outputs": [],
   "source": [
    "import pandas as pd\n",
    "import sqlite3\n",
    "import plotly.express as px\n",
    "import plotly.io as pio"
   ]
  },
  {
   "cell_type": "code",
   "execution_count": 23,
   "metadata": {},
   "outputs": [
    {
     "data": {
      "text/html": [
       "<div>\n",
       "<style scoped>\n",
       "    .dataframe tbody tr th:only-of-type {\n",
       "        vertical-align: middle;\n",
       "    }\n",
       "\n",
       "    .dataframe tbody tr th {\n",
       "        vertical-align: top;\n",
       "    }\n",
       "\n",
       "    .dataframe thead th {\n",
       "        text-align: right;\n",
       "    }\n",
       "</style>\n",
       "<table border=\"1\" class=\"dataframe\">\n",
       "  <thead>\n",
       "    <tr style=\"text-align: right;\">\n",
       "      <th></th>\n",
       "      <th>npi</th>\n",
       "      <th>entity_type_code</th>\n",
       "      <th>organization_name</th>\n",
       "      <th>last_name</th>\n",
       "      <th>provider_first_name</th>\n",
       "      <th>provider_middle_name</th>\n",
       "      <th>name_prefix</th>\n",
       "      <th>name_suffix</th>\n",
       "      <th>provider_credential_text</th>\n",
       "      <th>provider_first_line_business_practice_location_address</th>\n",
       "      <th>...</th>\n",
       "      <th>display_name</th>\n",
       "      <th>section</th>\n",
       "      <th>zip</th>\n",
       "      <th>cbsa</th>\n",
       "      <th>usps_zip_pref_city</th>\n",
       "      <th>usps_zip_pref_state</th>\n",
       "      <th>res_ratio</th>\n",
       "      <th>bus_ratio</th>\n",
       "      <th>oth_ratio</th>\n",
       "      <th>tot_ratio</th>\n",
       "    </tr>\n",
       "  </thead>\n",
       "  <tbody>\n",
       "    <tr>\n",
       "      <th>0</th>\n",
       "      <td>1700983236</td>\n",
       "      <td>2.0</td>\n",
       "      <td>CANNON COUNTY HOSPITAL, LLC</td>\n",
       "      <td>None</td>\n",
       "      <td>None</td>\n",
       "      <td>None</td>\n",
       "      <td>None</td>\n",
       "      <td>None</td>\n",
       "      <td>None</td>\n",
       "      <td>520 W MAIN ST</td>\n",
       "      <td>...</td>\n",
       "      <td>General Acute Care Hospital</td>\n",
       "      <td>Non-Individual</td>\n",
       "      <td>37166</td>\n",
       "      <td>34980</td>\n",
       "      <td>SMITHVILLE</td>\n",
       "      <td>TN</td>\n",
       "      <td>0.009600</td>\n",
       "      <td>0.00000</td>\n",
       "      <td>0.0</td>\n",
       "      <td>0.008709</td>\n",
       "    </tr>\n",
       "    <tr>\n",
       "      <th>1</th>\n",
       "      <td>1578693545</td>\n",
       "      <td>2.0</td>\n",
       "      <td>FRANK T RUTHERFORD HOSPITAL INC</td>\n",
       "      <td>None</td>\n",
       "      <td>None</td>\n",
       "      <td>None</td>\n",
       "      <td>None</td>\n",
       "      <td>None</td>\n",
       "      <td>None</td>\n",
       "      <td>130 LEBANON HWY</td>\n",
       "      <td>...</td>\n",
       "      <td>General Acute Care Hospital</td>\n",
       "      <td>Non-Individual</td>\n",
       "      <td>37030</td>\n",
       "      <td>34980</td>\n",
       "      <td>CARTHAGE</td>\n",
       "      <td>TN</td>\n",
       "      <td>0.999715</td>\n",
       "      <td>1.00000</td>\n",
       "      <td>1.0</td>\n",
       "      <td>0.999759</td>\n",
       "    </tr>\n",
       "    <tr>\n",
       "      <th>2</th>\n",
       "      <td>1609056399</td>\n",
       "      <td>2.0</td>\n",
       "      <td>VANDERBILT CHILDREN'S</td>\n",
       "      <td>None</td>\n",
       "      <td>None</td>\n",
       "      <td>None</td>\n",
       "      <td>None</td>\n",
       "      <td>None</td>\n",
       "      <td>None</td>\n",
       "      <td>1702 THE VANDERBILT CLINIC</td>\n",
       "      <td>...</td>\n",
       "      <td>Children's Hospital</td>\n",
       "      <td>Non-Individual</td>\n",
       "      <td>37232</td>\n",
       "      <td>34980</td>\n",
       "      <td>NASHVILLE</td>\n",
       "      <td>TN</td>\n",
       "      <td>0.000000</td>\n",
       "      <td>1.00000</td>\n",
       "      <td>1.0</td>\n",
       "      <td>1.000000</td>\n",
       "    </tr>\n",
       "    <tr>\n",
       "      <th>3</th>\n",
       "      <td>1861675647</td>\n",
       "      <td>2.0</td>\n",
       "      <td>RIVER REGION HOSPITAL</td>\n",
       "      <td>None</td>\n",
       "      <td>None</td>\n",
       "      <td>None</td>\n",
       "      <td>None</td>\n",
       "      <td>None</td>\n",
       "      <td>None</td>\n",
       "      <td>49 MUSIC SQ W</td>\n",
       "      <td>...</td>\n",
       "      <td>Psychiatric Hospital</td>\n",
       "      <td>Non-Individual</td>\n",
       "      <td>37203</td>\n",
       "      <td>34980</td>\n",
       "      <td>NASHVILLE</td>\n",
       "      <td>TN</td>\n",
       "      <td>1.000000</td>\n",
       "      <td>1.00000</td>\n",
       "      <td>1.0</td>\n",
       "      <td>1.000000</td>\n",
       "    </tr>\n",
       "    <tr>\n",
       "      <th>4</th>\n",
       "      <td>1265445506</td>\n",
       "      <td>2.0</td>\n",
       "      <td>WILLIAMSON COUNTY HOSPITAL DISTRICT</td>\n",
       "      <td>None</td>\n",
       "      <td>None</td>\n",
       "      <td>None</td>\n",
       "      <td>None</td>\n",
       "      <td>None</td>\n",
       "      <td>None</td>\n",
       "      <td>4321 CAROTHERS PARKWAY</td>\n",
       "      <td>...</td>\n",
       "      <td>General Acute Care Hospital</td>\n",
       "      <td>Non-Individual</td>\n",
       "      <td>37067</td>\n",
       "      <td>34980</td>\n",
       "      <td>FRANKLIN</td>\n",
       "      <td>TN</td>\n",
       "      <td>1.000000</td>\n",
       "      <td>1.00000</td>\n",
       "      <td>1.0</td>\n",
       "      <td>1.000000</td>\n",
       "    </tr>\n",
       "    <tr>\n",
       "      <th>...</th>\n",
       "      <td>...</td>\n",
       "      <td>...</td>\n",
       "      <td>...</td>\n",
       "      <td>...</td>\n",
       "      <td>...</td>\n",
       "      <td>...</td>\n",
       "      <td>...</td>\n",
       "      <td>...</td>\n",
       "      <td>...</td>\n",
       "      <td>...</td>\n",
       "      <td>...</td>\n",
       "      <td>...</td>\n",
       "      <td>...</td>\n",
       "      <td>...</td>\n",
       "      <td>...</td>\n",
       "      <td>...</td>\n",
       "      <td>...</td>\n",
       "      <td>...</td>\n",
       "      <td>...</td>\n",
       "      <td>...</td>\n",
       "      <td>...</td>\n",
       "    </tr>\n",
       "    <tr>\n",
       "      <th>136</th>\n",
       "      <td>1821350349</td>\n",
       "      <td>2.0</td>\n",
       "      <td>TRUSTPOINT HOSPITAL, LLC</td>\n",
       "      <td>None</td>\n",
       "      <td>None</td>\n",
       "      <td>None</td>\n",
       "      <td>None</td>\n",
       "      <td>None</td>\n",
       "      <td>None</td>\n",
       "      <td>1009 N THOMPSON LN</td>\n",
       "      <td>...</td>\n",
       "      <td>Rehabilitation Hospital</td>\n",
       "      <td>Non-Individual</td>\n",
       "      <td>37129</td>\n",
       "      <td>34980</td>\n",
       "      <td>MURFREESBORO</td>\n",
       "      <td>TN</td>\n",
       "      <td>1.000000</td>\n",
       "      <td>1.00000</td>\n",
       "      <td>1.0</td>\n",
       "      <td>1.000000</td>\n",
       "    </tr>\n",
       "    <tr>\n",
       "      <th>137</th>\n",
       "      <td>1922463900</td>\n",
       "      <td>2.0</td>\n",
       "      <td>NATIONAL BIRTH CENTERS, INC.</td>\n",
       "      <td>None</td>\n",
       "      <td>None</td>\n",
       "      <td>None</td>\n",
       "      <td>None</td>\n",
       "      <td>None</td>\n",
       "      <td>None</td>\n",
       "      <td>115 CREEKVIEW RD</td>\n",
       "      <td>...</td>\n",
       "      <td>General Acute Care Hospital</td>\n",
       "      <td>Non-Individual</td>\n",
       "      <td>38483</td>\n",
       "      <td>34980</td>\n",
       "      <td>SUMMERTOWN</td>\n",
       "      <td>TN</td>\n",
       "      <td>0.025432</td>\n",
       "      <td>0.02381</td>\n",
       "      <td>0.0</td>\n",
       "      <td>0.025210</td>\n",
       "    </tr>\n",
       "    <tr>\n",
       "      <th>138</th>\n",
       "      <td>1023747797</td>\n",
       "      <td>2.0</td>\n",
       "      <td>PRIVATE HEALTHCARE FACILITIES</td>\n",
       "      <td>None</td>\n",
       "      <td>None</td>\n",
       "      <td>None</td>\n",
       "      <td>None</td>\n",
       "      <td>None</td>\n",
       "      <td>None</td>\n",
       "      <td>115 CREEKVIEW RD</td>\n",
       "      <td>...</td>\n",
       "      <td>General Acute Care Hospital</td>\n",
       "      <td>Non-Individual</td>\n",
       "      <td>38483</td>\n",
       "      <td>34980</td>\n",
       "      <td>SUMMERTOWN</td>\n",
       "      <td>TN</td>\n",
       "      <td>0.025432</td>\n",
       "      <td>0.02381</td>\n",
       "      <td>0.0</td>\n",
       "      <td>0.025210</td>\n",
       "    </tr>\n",
       "    <tr>\n",
       "      <th>139</th>\n",
       "      <td>1447762505</td>\n",
       "      <td>2.0</td>\n",
       "      <td>NATIONAL BIRTH CENTERS, INC.</td>\n",
       "      <td>None</td>\n",
       "      <td>None</td>\n",
       "      <td>None</td>\n",
       "      <td>None</td>\n",
       "      <td>None</td>\n",
       "      <td>None</td>\n",
       "      <td>80 OAK VALLEY DR</td>\n",
       "      <td>...</td>\n",
       "      <td>General Acute Care Hospital</td>\n",
       "      <td>Non-Individual</td>\n",
       "      <td>37174</td>\n",
       "      <td>34980</td>\n",
       "      <td>SPRING HILL</td>\n",
       "      <td>TN</td>\n",
       "      <td>0.998723</td>\n",
       "      <td>1.00000</td>\n",
       "      <td>1.0</td>\n",
       "      <td>0.998809</td>\n",
       "    </tr>\n",
       "    <tr>\n",
       "      <th>140</th>\n",
       "      <td>1679924005</td>\n",
       "      <td>2.0</td>\n",
       "      <td>CURAHEALTH NASHVILLE, LLC</td>\n",
       "      <td>None</td>\n",
       "      <td>None</td>\n",
       "      <td>None</td>\n",
       "      <td>None</td>\n",
       "      <td>None</td>\n",
       "      <td>None</td>\n",
       "      <td>1412 COUNTY HOSPITAL RD</td>\n",
       "      <td>...</td>\n",
       "      <td>Long Term Care Hospital</td>\n",
       "      <td>Non-Individual</td>\n",
       "      <td>37218</td>\n",
       "      <td>34980</td>\n",
       "      <td>NASHVILLE</td>\n",
       "      <td>TN</td>\n",
       "      <td>1.000000</td>\n",
       "      <td>1.00000</td>\n",
       "      <td>1.0</td>\n",
       "      <td>1.000000</td>\n",
       "    </tr>\n",
       "  </tbody>\n",
       "</table>\n",
       "<p>141 rows × 31 columns</p>\n",
       "</div>"
      ],
      "text/plain": [
       "            npi  entity_type_code                    organization_name  \\\n",
       "0    1700983236               2.0          CANNON COUNTY HOSPITAL, LLC   \n",
       "1    1578693545               2.0      FRANK T RUTHERFORD HOSPITAL INC   \n",
       "2    1609056399               2.0                VANDERBILT CHILDREN'S   \n",
       "3    1861675647               2.0                RIVER REGION HOSPITAL   \n",
       "4    1265445506               2.0  WILLIAMSON COUNTY HOSPITAL DISTRICT   \n",
       "..          ...               ...                                  ...   \n",
       "136  1821350349               2.0             TRUSTPOINT HOSPITAL, LLC   \n",
       "137  1922463900               2.0         NATIONAL BIRTH CENTERS, INC.   \n",
       "138  1023747797               2.0        PRIVATE HEALTHCARE FACILITIES   \n",
       "139  1447762505               2.0         NATIONAL BIRTH CENTERS, INC.   \n",
       "140  1679924005               2.0            CURAHEALTH NASHVILLE, LLC   \n",
       "\n",
       "    last_name provider_first_name provider_middle_name name_prefix  \\\n",
       "0        None                None                 None        None   \n",
       "1        None                None                 None        None   \n",
       "2        None                None                 None        None   \n",
       "3        None                None                 None        None   \n",
       "4        None                None                 None        None   \n",
       "..        ...                 ...                  ...         ...   \n",
       "136      None                None                 None        None   \n",
       "137      None                None                 None        None   \n",
       "138      None                None                 None        None   \n",
       "139      None                None                 None        None   \n",
       "140      None                None                 None        None   \n",
       "\n",
       "    name_suffix provider_credential_text  \\\n",
       "0          None                     None   \n",
       "1          None                     None   \n",
       "2          None                     None   \n",
       "3          None                     None   \n",
       "4          None                     None   \n",
       "..          ...                      ...   \n",
       "136        None                     None   \n",
       "137        None                     None   \n",
       "138        None                     None   \n",
       "139        None                     None   \n",
       "140        None                     None   \n",
       "\n",
       "    provider_first_line_business_practice_location_address  ...  \\\n",
       "0                                        520 W MAIN ST      ...   \n",
       "1                                      130 LEBANON HWY      ...   \n",
       "2                           1702 THE VANDERBILT CLINIC      ...   \n",
       "3                                        49 MUSIC SQ W      ...   \n",
       "4                               4321 CAROTHERS PARKWAY      ...   \n",
       "..                                                 ...      ...   \n",
       "136                                 1009 N THOMPSON LN      ...   \n",
       "137                                   115 CREEKVIEW RD      ...   \n",
       "138                                   115 CREEKVIEW RD      ...   \n",
       "139                                   80 OAK VALLEY DR      ...   \n",
       "140                            1412 COUNTY HOSPITAL RD      ...   \n",
       "\n",
       "                    display_name         section    zip   cbsa  \\\n",
       "0    General Acute Care Hospital  Non-Individual  37166  34980   \n",
       "1    General Acute Care Hospital  Non-Individual  37030  34980   \n",
       "2            Children's Hospital  Non-Individual  37232  34980   \n",
       "3           Psychiatric Hospital  Non-Individual  37203  34980   \n",
       "4    General Acute Care Hospital  Non-Individual  37067  34980   \n",
       "..                           ...             ...    ...    ...   \n",
       "136      Rehabilitation Hospital  Non-Individual  37129  34980   \n",
       "137  General Acute Care Hospital  Non-Individual  38483  34980   \n",
       "138  General Acute Care Hospital  Non-Individual  38483  34980   \n",
       "139  General Acute Care Hospital  Non-Individual  37174  34980   \n",
       "140      Long Term Care Hospital  Non-Individual  37218  34980   \n",
       "\n",
       "    usps_zip_pref_city usps_zip_pref_state res_ratio bus_ratio oth_ratio  \\\n",
       "0           SMITHVILLE                  TN  0.009600   0.00000       0.0   \n",
       "1             CARTHAGE                  TN  0.999715   1.00000       1.0   \n",
       "2            NASHVILLE                  TN  0.000000   1.00000       1.0   \n",
       "3            NASHVILLE                  TN  1.000000   1.00000       1.0   \n",
       "4             FRANKLIN                  TN  1.000000   1.00000       1.0   \n",
       "..                 ...                 ...       ...       ...       ...   \n",
       "136       MURFREESBORO                  TN  1.000000   1.00000       1.0   \n",
       "137         SUMMERTOWN                  TN  0.025432   0.02381       0.0   \n",
       "138         SUMMERTOWN                  TN  0.025432   0.02381       0.0   \n",
       "139        SPRING HILL                  TN  0.998723   1.00000       1.0   \n",
       "140          NASHVILLE                  TN  1.000000   1.00000       1.0   \n",
       "\n",
       "    tot_ratio  \n",
       "0    0.008709  \n",
       "1    0.999759  \n",
       "2    1.000000  \n",
       "3    1.000000  \n",
       "4    1.000000  \n",
       "..        ...  \n",
       "136  1.000000  \n",
       "137  0.025210  \n",
       "138  0.025210  \n",
       "139  0.998809  \n",
       "140  1.000000  \n",
       "\n",
       "[141 rows x 31 columns]"
      ]
     },
     "execution_count": 23,
     "metadata": {},
     "output_type": "execute_result"
    }
   ],
   "source": [
    "query = \"\"\"\n",
    "SELECT *\n",
    "FROM nnpes AS np\n",
    "INNER JOIN nucc_taxonomy AS nt\n",
    "ON np.primary_taxonomy = nt.code\n",
    "INNER JOIN zip_cbsa AS zc\n",
    "ON np.postal_code = zc.zip\n",
    "WHERE entity_type_code = 2.0\n",
    "    AND state = 'TN'\n",
    "    AND cbsa = 34980\n",
    "    AND classification LIKE '%Hospital'\n",
    "    AND organization_name NOT LIKE '%PAY%'\n",
    "\"\"\"\n",
    "\n",
    "with sqlite3.connect('../data/hop_teaming_database.sqlite') as db: \n",
    "    hospitals = pd.read_sql(query, db)\n",
    "\n",
    "hospitals"
   ]
  },
  {
   "cell_type": "code",
   "execution_count": 24,
   "metadata": {},
   "outputs": [
    {
     "data": {
      "text/html": [
       "<div>\n",
       "<style scoped>\n",
       "    .dataframe tbody tr th:only-of-type {\n",
       "        vertical-align: middle;\n",
       "    }\n",
       "\n",
       "    .dataframe tbody tr th {\n",
       "        vertical-align: top;\n",
       "    }\n",
       "\n",
       "    .dataframe thead th {\n",
       "        text-align: right;\n",
       "    }\n",
       "</style>\n",
       "<table border=\"1\" class=\"dataframe\">\n",
       "  <thead>\n",
       "    <tr style=\"text-align: right;\">\n",
       "      <th></th>\n",
       "      <th>organization_name</th>\n",
       "    </tr>\n",
       "  </thead>\n",
       "  <tbody>\n",
       "    <tr>\n",
       "      <th>0</th>\n",
       "      <td>SAINT THOMAS WEST HOSPITAL</td>\n",
       "    </tr>\n",
       "    <tr>\n",
       "      <th>1</th>\n",
       "      <td>HCA HEALTH SERVICES OF TENNESSEE, INC.</td>\n",
       "    </tr>\n",
       "    <tr>\n",
       "      <th>2</th>\n",
       "      <td>VANDERBILT UNIVERSITY MEDICAL CENTER</td>\n",
       "    </tr>\n",
       "    <tr>\n",
       "      <th>3</th>\n",
       "      <td>MAURY REGIONAL HOSPITAL</td>\n",
       "    </tr>\n",
       "    <tr>\n",
       "      <th>4</th>\n",
       "      <td>SAINT THOMAS STONES RIVER HOSPITAL, LLC</td>\n",
       "    </tr>\n",
       "    <tr>\n",
       "      <th>5</th>\n",
       "      <td>SAINT THOMAS RIVER PARK HOSPITAL, LLC</td>\n",
       "    </tr>\n",
       "    <tr>\n",
       "      <th>6</th>\n",
       "      <td>RIVERVIEW MEDICAL CENTER LLC</td>\n",
       "    </tr>\n",
       "    <tr>\n",
       "      <th>7</th>\n",
       "      <td>NASHVILLE GENERAL HOSPITAL</td>\n",
       "    </tr>\n",
       "    <tr>\n",
       "      <th>8</th>\n",
       "      <td>SAINT THOMAS RUTHERFORD HOSPITAL</td>\n",
       "    </tr>\n",
       "    <tr>\n",
       "      <th>9</th>\n",
       "      <td>SUMNER REGIONAL MEDICAL CENTER LLC</td>\n",
       "    </tr>\n",
       "    <tr>\n",
       "      <th>10</th>\n",
       "      <td>HENDERSONVILLE HOSPITAL CORPORATION</td>\n",
       "    </tr>\n",
       "    <tr>\n",
       "      <th>11</th>\n",
       "      <td>WILLIAMSON COUNTY HOSPITAL DISTRICT</td>\n",
       "    </tr>\n",
       "    <tr>\n",
       "      <th>12</th>\n",
       "      <td>CENTRAL TENNESSEE HOSPITAL CORPORATION</td>\n",
       "    </tr>\n",
       "    <tr>\n",
       "      <th>13</th>\n",
       "      <td>TRUSTPOINT HOSPITAL, LLC</td>\n",
       "    </tr>\n",
       "    <tr>\n",
       "      <th>14</th>\n",
       "      <td>SAINT THOMAS DEKALB HOSPITAL, LLC</td>\n",
       "    </tr>\n",
       "    <tr>\n",
       "      <th>15</th>\n",
       "      <td>NORTHCREST MEDICAL CENTER</td>\n",
       "    </tr>\n",
       "    <tr>\n",
       "      <th>16</th>\n",
       "      <td>SHELBYVILLE HOSPITAL COMPANY LLC</td>\n",
       "    </tr>\n",
       "    <tr>\n",
       "      <th>17</th>\n",
       "      <td>HTI MEMORIAL HOSPITAL CORPORATION</td>\n",
       "    </tr>\n",
       "    <tr>\n",
       "      <th>18</th>\n",
       "      <td>SELECT SPECIALTY HOSPITAL - NASHVILLE LLC</td>\n",
       "    </tr>\n",
       "    <tr>\n",
       "      <th>19</th>\n",
       "      <td>BAPTIST WOMEN'S HEALTH CENTER LLC</td>\n",
       "    </tr>\n",
       "    <tr>\n",
       "      <th>20</th>\n",
       "      <td>SUMNER REGIONAL HEALTH SYSTEMS, INC</td>\n",
       "    </tr>\n",
       "    <tr>\n",
       "      <th>21</th>\n",
       "      <td>TROUSDALE MEDICAL CENTER LLC</td>\n",
       "    </tr>\n",
       "    <tr>\n",
       "      <th>22</th>\n",
       "      <td>MACON COUNTY GENERAL HOSPITAL, INC.</td>\n",
       "    </tr>\n",
       "    <tr>\n",
       "      <th>23</th>\n",
       "      <td>MAURY REGIONAL HOSPITAL MARSHALL MEDICAL CENTER</td>\n",
       "    </tr>\n",
       "    <tr>\n",
       "      <th>24</th>\n",
       "      <td>SETON CORPORATION</td>\n",
       "    </tr>\n",
       "    <tr>\n",
       "      <th>25</th>\n",
       "      <td>SMITH COUNTY MEMORIAL HOSPITAL LLC</td>\n",
       "    </tr>\n",
       "    <tr>\n",
       "      <th>26</th>\n",
       "      <td>RIVER PARK HOSPITAL LLC</td>\n",
       "    </tr>\n",
       "    <tr>\n",
       "      <th>27</th>\n",
       "      <td>ENCOMPASS HEALTH REHABILITATION HOSPITAL OF FR...</td>\n",
       "    </tr>\n",
       "    <tr>\n",
       "      <th>28</th>\n",
       "      <td>ROLLING HILLS HOSPITAL LLC</td>\n",
       "    </tr>\n",
       "    <tr>\n",
       "      <th>29</th>\n",
       "      <td>CURAHEALTH NASHVILLE, LLC</td>\n",
       "    </tr>\n",
       "    <tr>\n",
       "      <th>30</th>\n",
       "      <td>SMITH COUNTY MEMORIAL HOSPITAL, LLC</td>\n",
       "    </tr>\n",
       "    <tr>\n",
       "      <th>31</th>\n",
       "      <td>SRHS HOLDINGS LLC</td>\n",
       "    </tr>\n",
       "    <tr>\n",
       "      <th>32</th>\n",
       "      <td>BEHAVIORAL HEALTHCARE CENTER AT COLUMBIA, LLC</td>\n",
       "    </tr>\n",
       "  </tbody>\n",
       "</table>\n",
       "</div>"
      ],
      "text/plain": [
       "                                    organization_name\n",
       "0                          SAINT THOMAS WEST HOSPITAL\n",
       "1              HCA HEALTH SERVICES OF TENNESSEE, INC.\n",
       "2                VANDERBILT UNIVERSITY MEDICAL CENTER\n",
       "3                             MAURY REGIONAL HOSPITAL\n",
       "4             SAINT THOMAS STONES RIVER HOSPITAL, LLC\n",
       "5               SAINT THOMAS RIVER PARK HOSPITAL, LLC\n",
       "6                        RIVERVIEW MEDICAL CENTER LLC\n",
       "7                          NASHVILLE GENERAL HOSPITAL\n",
       "8                    SAINT THOMAS RUTHERFORD HOSPITAL\n",
       "9                  SUMNER REGIONAL MEDICAL CENTER LLC\n",
       "10                HENDERSONVILLE HOSPITAL CORPORATION\n",
       "11                WILLIAMSON COUNTY HOSPITAL DISTRICT\n",
       "12             CENTRAL TENNESSEE HOSPITAL CORPORATION\n",
       "13                           TRUSTPOINT HOSPITAL, LLC\n",
       "14                  SAINT THOMAS DEKALB HOSPITAL, LLC\n",
       "15                          NORTHCREST MEDICAL CENTER\n",
       "16                   SHELBYVILLE HOSPITAL COMPANY LLC\n",
       "17                  HTI MEMORIAL HOSPITAL CORPORATION\n",
       "18          SELECT SPECIALTY HOSPITAL - NASHVILLE LLC\n",
       "19                  BAPTIST WOMEN'S HEALTH CENTER LLC\n",
       "20                SUMNER REGIONAL HEALTH SYSTEMS, INC\n",
       "21                       TROUSDALE MEDICAL CENTER LLC\n",
       "22                MACON COUNTY GENERAL HOSPITAL, INC.\n",
       "23    MAURY REGIONAL HOSPITAL MARSHALL MEDICAL CENTER\n",
       "24                                  SETON CORPORATION\n",
       "25                 SMITH COUNTY MEMORIAL HOSPITAL LLC\n",
       "26                            RIVER PARK HOSPITAL LLC\n",
       "27  ENCOMPASS HEALTH REHABILITATION HOSPITAL OF FR...\n",
       "28                         ROLLING HILLS HOSPITAL LLC\n",
       "29                          CURAHEALTH NASHVILLE, LLC\n",
       "30                SMITH COUNTY MEMORIAL HOSPITAL, LLC\n",
       "31                                  SRHS HOLDINGS LLC\n",
       "32      BEHAVIORAL HEALTHCARE CENTER AT COLUMBIA, LLC"
      ]
     },
     "execution_count": 24,
     "metadata": {},
     "output_type": "execute_result"
    }
   ],
   "source": [
    "var = tuple(hospitals['npi'].tolist())\n",
    "\n",
    "query =f\"\"\"\n",
    "SELECT DISTINCT organization_name\n",
    "FROM hop_teaming ht\n",
    "INNER JOIN nnpes np\n",
    "ON ht.to_npi = np.npi\n",
    "WHERE to_npi IN {var}\n",
    "\"\"\"\n",
    "\n",
    "with sqlite3.connect('../data/hop_teaming_database.sqlite') as db: \n",
    "    hop_hospitals = pd.read_sql(query, db)\n",
    "\n",
    "hop_hospitals"
   ]
  },
  {
   "cell_type": "code",
   "execution_count": 27,
   "metadata": {},
   "outputs": [
    {
     "data": {
      "text/html": [
       "<div>\n",
       "<style scoped>\n",
       "    .dataframe tbody tr th:only-of-type {\n",
       "        vertical-align: middle;\n",
       "    }\n",
       "\n",
       "    .dataframe tbody tr th {\n",
       "        vertical-align: top;\n",
       "    }\n",
       "\n",
       "    .dataframe thead th {\n",
       "        text-align: right;\n",
       "    }\n",
       "</style>\n",
       "<table border=\"1\" class=\"dataframe\">\n",
       "  <thead>\n",
       "    <tr style=\"text-align: right;\">\n",
       "      <th></th>\n",
       "      <th>from_npi</th>\n",
       "      <th>to_npi</th>\n",
       "      <th>patient_total</th>\n",
       "      <th>transaction_total</th>\n",
       "    </tr>\n",
       "  </thead>\n",
       "  <tbody>\n",
       "    <tr>\n",
       "      <th>0</th>\n",
       "      <td>1003013160</td>\n",
       "      <td>1629025648</td>\n",
       "      <td>33</td>\n",
       "      <td>51</td>\n",
       "    </tr>\n",
       "    <tr>\n",
       "      <th>1</th>\n",
       "      <td>1003013947</td>\n",
       "      <td>1023055126</td>\n",
       "      <td>99</td>\n",
       "      <td>279</td>\n",
       "    </tr>\n",
       "    <tr>\n",
       "      <th>2</th>\n",
       "      <td>1003019902</td>\n",
       "      <td>1396882205</td>\n",
       "      <td>215</td>\n",
       "      <td>339</td>\n",
       "    </tr>\n",
       "    <tr>\n",
       "      <th>3</th>\n",
       "      <td>1003019902</td>\n",
       "      <td>1558408633</td>\n",
       "      <td>56</td>\n",
       "      <td>62</td>\n",
       "    </tr>\n",
       "    <tr>\n",
       "      <th>4</th>\n",
       "      <td>1003028770</td>\n",
       "      <td>1861479545</td>\n",
       "      <td>1905</td>\n",
       "      <td>2649</td>\n",
       "    </tr>\n",
       "    <tr>\n",
       "      <th>...</th>\n",
       "      <td>...</td>\n",
       "      <td>...</td>\n",
       "      <td>...</td>\n",
       "      <td>...</td>\n",
       "    </tr>\n",
       "    <tr>\n",
       "      <th>14026</th>\n",
       "      <td>1992972087</td>\n",
       "      <td>1720032345</td>\n",
       "      <td>200</td>\n",
       "      <td>346</td>\n",
       "    </tr>\n",
       "    <tr>\n",
       "      <th>14027</th>\n",
       "      <td>1992985055</td>\n",
       "      <td>1942442710</td>\n",
       "      <td>122</td>\n",
       "      <td>164</td>\n",
       "    </tr>\n",
       "    <tr>\n",
       "      <th>14028</th>\n",
       "      <td>1992985055</td>\n",
       "      <td>1992776405</td>\n",
       "      <td>71</td>\n",
       "      <td>113</td>\n",
       "    </tr>\n",
       "    <tr>\n",
       "      <th>14029</th>\n",
       "      <td>1992985949</td>\n",
       "      <td>1023055126</td>\n",
       "      <td>277</td>\n",
       "      <td>767</td>\n",
       "    </tr>\n",
       "    <tr>\n",
       "      <th>14030</th>\n",
       "      <td>1992987085</td>\n",
       "      <td>1396882205</td>\n",
       "      <td>164</td>\n",
       "      <td>167</td>\n",
       "    </tr>\n",
       "  </tbody>\n",
       "</table>\n",
       "<p>14031 rows × 4 columns</p>\n",
       "</div>"
      ],
      "text/plain": [
       "         from_npi      to_npi  patient_total  transaction_total\n",
       "0      1003013160  1629025648             33                 51\n",
       "1      1003013947  1023055126             99                279\n",
       "2      1003019902  1396882205            215                339\n",
       "3      1003019902  1558408633             56                 62\n",
       "4      1003028770  1861479545           1905               2649\n",
       "...           ...         ...            ...                ...\n",
       "14026  1992972087  1720032345            200                346\n",
       "14027  1992985055  1942442710            122                164\n",
       "14028  1992985055  1992776405             71                113\n",
       "14029  1992985949  1023055126            277                767\n",
       "14030  1992987085  1396882205            164                167\n",
       "\n",
       "[14031 rows x 4 columns]"
      ]
     },
     "execution_count": 27,
     "metadata": {},
     "output_type": "execute_result"
    }
   ],
   "source": [
    "query = \"\"\"\n",
    "WITH hospitals AS (\n",
    "    SELECT DISTINCT npi\n",
    "    FROM nnpes AS np\n",
    "    INNER JOIN nucc_taxonomy AS nt\n",
    "    ON np.primary_taxonomy = nt.code\n",
    "    INNER JOIN zip_cbsa AS zc\n",
    "    ON np.postal_code = zc.zip\n",
    "    WHERE entity_type_code = 2.0\n",
    "        AND state = 'TN'\n",
    "        AND cbsa = 34980\n",
    "    AND classification LIKE '%Hospital'\n",
    "    AND organization_name NOT LIKE '%PAY%'\n",
    ")\n",
    "SELECT\n",
    "    from_npi,\n",
    "    to_npi,\n",
    "    SUM(patient_count) AS patient_total,\n",
    "    SUM(transaction_count) AS transaction_total\n",
    "FROM hop_teaming\n",
    "WHERE to_npi IN hospitals\n",
    "GROUP BY from_npi, to_npi\n",
    "\"\"\"\n",
    "\n",
    "# LIMIT 1000;\n",
    "\n",
    "with sqlite3.connect('../data/hop_teaming_database.sqlite') as db: \n",
    "    providers_to_hospitals = pd.read_sql(query, db)\n",
    "\n",
    "providers_to_hospitals"
   ]
  },
  {
   "cell_type": "code",
   "execution_count": 31,
   "metadata": {},
   "outputs": [
    {
     "data": {
      "text/html": [
       "<div>\n",
       "<style scoped>\n",
       "    .dataframe tbody tr th:only-of-type {\n",
       "        vertical-align: middle;\n",
       "    }\n",
       "\n",
       "    .dataframe tbody tr th {\n",
       "        vertical-align: top;\n",
       "    }\n",
       "\n",
       "    .dataframe thead th {\n",
       "        text-align: right;\n",
       "    }\n",
       "</style>\n",
       "<table border=\"1\" class=\"dataframe\">\n",
       "  <thead>\n",
       "    <tr style=\"text-align: right;\">\n",
       "      <th></th>\n",
       "      <th>from_npi</th>\n",
       "      <th>specialization</th>\n",
       "      <th>parent_org</th>\n",
       "      <th>total_transactions</th>\n",
       "      <th>total_patients</th>\n",
       "    </tr>\n",
       "  </thead>\n",
       "  <tbody>\n",
       "    <tr>\n",
       "      <th>0</th>\n",
       "      <td>1093753303</td>\n",
       "      <td>Anatomic Pathology &amp; Clinical Pathology</td>\n",
       "      <td>HCA Healthcare</td>\n",
       "      <td>26785</td>\n",
       "      <td>15029</td>\n",
       "    </tr>\n",
       "    <tr>\n",
       "      <th>1</th>\n",
       "      <td>1417131715</td>\n",
       "      <td>Interventional Cardiology</td>\n",
       "      <td>HCA Healthcare</td>\n",
       "      <td>9912</td>\n",
       "      <td>6360</td>\n",
       "    </tr>\n",
       "    <tr>\n",
       "      <th>2</th>\n",
       "      <td>1912984758</td>\n",
       "      <td>Diagnostic Radiology</td>\n",
       "      <td>HCA Healthcare</td>\n",
       "      <td>5050</td>\n",
       "      <td>4648</td>\n",
       "    </tr>\n",
       "    <tr>\n",
       "      <th>3</th>\n",
       "      <td>1871548818</td>\n",
       "      <td>Diagnostic Radiology</td>\n",
       "      <td>HCA Healthcare</td>\n",
       "      <td>5124</td>\n",
       "      <td>4547</td>\n",
       "    </tr>\n",
       "    <tr>\n",
       "      <th>4</th>\n",
       "      <td>1134321235</td>\n",
       "      <td>Diagnostic Radiology</td>\n",
       "      <td>Ascension</td>\n",
       "      <td>5713</td>\n",
       "      <td>4526</td>\n",
       "    </tr>\n",
       "    <tr>\n",
       "      <th>...</th>\n",
       "      <td>...</td>\n",
       "      <td>...</td>\n",
       "      <td>...</td>\n",
       "      <td>...</td>\n",
       "      <td>...</td>\n",
       "    </tr>\n",
       "    <tr>\n",
       "      <th>3547</th>\n",
       "      <td>1801301999</td>\n",
       "      <td>Acute Care</td>\n",
       "      <td>Vanderbilt</td>\n",
       "      <td>58</td>\n",
       "      <td>17</td>\n",
       "    </tr>\n",
       "    <tr>\n",
       "      <th>3548</th>\n",
       "      <td>1861571168</td>\n",
       "      <td>Clinical</td>\n",
       "      <td>Vanderbilt</td>\n",
       "      <td>50</td>\n",
       "      <td>17</td>\n",
       "    </tr>\n",
       "    <tr>\n",
       "      <th>3549</th>\n",
       "      <td>1104808641</td>\n",
       "      <td>Nephrology</td>\n",
       "      <td>Vanderbilt</td>\n",
       "      <td>57</td>\n",
       "      <td>16</td>\n",
       "    </tr>\n",
       "    <tr>\n",
       "      <th>3550</th>\n",
       "      <td>1144287772</td>\n",
       "      <td>Psychiatry</td>\n",
       "      <td>Maury Regional Medical Group</td>\n",
       "      <td>102</td>\n",
       "      <td>14</td>\n",
       "    </tr>\n",
       "    <tr>\n",
       "      <th>3551</th>\n",
       "      <td>1255605036</td>\n",
       "      <td>Family</td>\n",
       "      <td>other</td>\n",
       "      <td>55</td>\n",
       "      <td>12</td>\n",
       "    </tr>\n",
       "  </tbody>\n",
       "</table>\n",
       "<p>3552 rows × 5 columns</p>\n",
       "</div>"
      ],
      "text/plain": [
       "        from_npi                           specialization  \\\n",
       "0     1093753303  Anatomic Pathology & Clinical Pathology   \n",
       "1     1417131715                Interventional Cardiology   \n",
       "2     1912984758                     Diagnostic Radiology   \n",
       "3     1871548818                     Diagnostic Radiology   \n",
       "4     1134321235                     Diagnostic Radiology   \n",
       "...          ...                                      ...   \n",
       "3547  1801301999                               Acute Care   \n",
       "3548  1861571168                                 Clinical   \n",
       "3549  1104808641                               Nephrology   \n",
       "3550  1144287772                               Psychiatry   \n",
       "3551  1255605036                                   Family   \n",
       "\n",
       "                        parent_org  total_transactions  total_patients  \n",
       "0                   HCA Healthcare               26785           15029  \n",
       "1                   HCA Healthcare                9912            6360  \n",
       "2                   HCA Healthcare                5050            4648  \n",
       "3                   HCA Healthcare                5124            4547  \n",
       "4                        Ascension                5713            4526  \n",
       "...                            ...                 ...             ...  \n",
       "3547                    Vanderbilt                  58              17  \n",
       "3548                    Vanderbilt                  50              17  \n",
       "3549                    Vanderbilt                  57              16  \n",
       "3550  Maury Regional Medical Group                 102              14  \n",
       "3551                         other                  55              12  \n",
       "\n",
       "[3552 rows x 5 columns]"
      ]
     },
     "execution_count": 31,
     "metadata": {},
     "output_type": "execute_result"
    }
   ],
   "source": [
    "query = '''\n",
    "WITH provider_referrals AS (\n",
    "SELECT \n",
    "    n1.npi,\n",
    "    t1.specialization\n",
    "FROM nnpes n1\n",
    "INNER JOIN nucc_taxonomy as t1\n",
    "ON n1.primary_taxonomy = t1.code\n",
    "WHERE n1.entity_type_code = 1\n",
    "    AND t1.specialization <> 'None'\n",
    "),\n",
    "major_hospitals AS (\n",
    "SELECT\n",
    "    n2.npi,\n",
    "    n2.organization_name,\n",
    "    CASE\n",
    "        WHEN organization_name = 'VANDERBILT UNIVERSITY MEDICAL CENTER'\n",
    "            OR organization_name = 'SHELBYVILLE HOSPITAL COMPANY LLC'\n",
    "            THEN 'Vanderbilt'\n",
    "        WHEN organization_name = 'HCA HEALTH SERVICES OF TENNESSEE, INC.'\n",
    "            OR organization_name = 'HTI MEMORIAL HOSPITAL CORPORATION'\n",
    "            OR organization_name = 'HENDERSONVILLE HOSPITAL CORPORATION'\n",
    "            OR organization_name = 'CENTRAL TENNESSEE HOSPITAL CORPORATION'\n",
    "            OR organization_name = 'NORTHCREST MEDICAL CENTER'\n",
    "            THEN 'HCA Healthcare'\n",
    "        WHEN organization_name = 'SAINT THOMAS WEST HOSPITAL'\n",
    "            OR organization_name = 'SAINT THOMAS RUTHERFORD HOSPITAL'\n",
    "            OR organization_name = 'SAINT THOMAS RIVER PARK HOSPITAL, LLC'\n",
    "            OR organization_name = 'SAINT THOMAS DEKALB HOSPITAL, LLC'\n",
    "            OR organization_name = 'SAINT THOMAS STONES RIVER HOSPITAL, LLC'\n",
    "            OR organization_name = 'RIVER PARK HOSPITAL LLC'\n",
    "            THEN 'Ascension'\n",
    "        WHEN organization_name = 'MAURY REGIONAL HOSPITAL'\n",
    "            OR organization_name = 'MAURY REGIONAL HOSPITAL MARSHALL MEDICAL CENTER'\n",
    "            THEN 'Maury Regional Medical Group'\n",
    "        WHEN organization_name = 'WILLIAMSON COUNTY HOSPITAL DISTRICT'\n",
    "            THEN 'Williamson Medical Group'\n",
    "        WHEN organization_name = 'SUMNER REGIONAL MEDICAL CENTER LLC'\n",
    "            OR organization_name = 'RIVERVIEW MEDICAL CENTER LLC'\n",
    "            OR organization_name = 'SUMNER REGIONAL HEALTH SYSTEMS, INC'\n",
    "            OR organization_name = 'TROUSDALE MEDICAL CENTER LLC'\n",
    "            OR organization_name = 'SRHS HOLDINGS LLC'\n",
    "            THEN 'High Point Health System'\n",
    "        ELSE 'other'\n",
    "    END AS parent_org    \n",
    "FROM nnpes n2\n",
    "INNER JOIN nucc_taxonomy as t2\n",
    "ON n2.primary_taxonomy = t2.code\n",
    "INNER JOIN zip_cbsa as zc\n",
    "ON n2.postal_code = zc.zip\n",
    "WHERE n2.state = 'TN'\n",
    "    AND n2.entity_type_code = 2\n",
    "    AND t2.classification LIKE '%Hospital'\n",
    "    AND zc.cbsa = 34980\n",
    ")\n",
    "SELECT\n",
    "    pr.npi AS from_npi,\n",
    "    pr.specialization,\n",
    "    mh.parent_org, \n",
    "    SUM(hop.transaction_count) AS total_transactions,\n",
    "    SUM(hop.patient_count) AS total_patients\n",
    "FROM hop_teaming AS hop\n",
    "INNER JOIN provider_referrals pr\n",
    "ON hop.from_npi = pr.npi\n",
    "INNER JOIN major_hospitals mh\n",
    "ON hop.to_npi = mh.npi \n",
    "GROUP BY pr.npi, pr.specialization, mh.parent_org\n",
    "--GROUP BY mh.parent_org\n",
    "ORDER BY total_patients DESC;\n",
    "'''\n",
    "\n",
    "with sqlite3.connect('../data/hop_teaming_database.sqlite') as db: \n",
    "    providers_to_major = pd.read_sql(query, db)\n",
    "\n",
    "providers_to_major"
   ]
  },
  {
   "cell_type": "code",
   "execution_count": 32,
   "metadata": {},
   "outputs": [],
   "source": [
    "special_referrals = (\n",
    "    providers_to_major\n",
    "        .drop(columns='from_npi')\n",
    "        .groupby(['specialization','parent_org'])\n",
    "        .sum(['total_transactions', 'total_patients'])\n",
    "        .sort_values(['specialization', 'total_patients'], ascending=[True,False])\n",
    "        .reset_index()\n",
    ")"
   ]
  },
  {
   "cell_type": "code",
   "execution_count": 33,
   "metadata": {},
   "outputs": [],
   "source": [
    "special_referrals['patients_ratio'] = (\n",
    "    special_referrals['total_patients'] / special_referrals.groupby('specialization')['total_patients'].transform('sum')\n",
    ")"
   ]
  },
  {
   "cell_type": "code",
   "execution_count": 34,
   "metadata": {},
   "outputs": [
    {
     "data": {
      "text/html": [
       "<div>\n",
       "<style scoped>\n",
       "    .dataframe tbody tr th:only-of-type {\n",
       "        vertical-align: middle;\n",
       "    }\n",
       "\n",
       "    .dataframe tbody tr th {\n",
       "        vertical-align: top;\n",
       "    }\n",
       "\n",
       "    .dataframe thead th {\n",
       "        text-align: right;\n",
       "    }\n",
       "</style>\n",
       "<table border=\"1\" class=\"dataframe\">\n",
       "  <thead>\n",
       "    <tr style=\"text-align: right;\">\n",
       "      <th></th>\n",
       "      <th>specialization</th>\n",
       "      <th>parent_org</th>\n",
       "      <th>total_transactions</th>\n",
       "      <th>total_patients</th>\n",
       "      <th>patients_ratio</th>\n",
       "    </tr>\n",
       "  </thead>\n",
       "  <tbody>\n",
       "    <tr>\n",
       "      <th>310</th>\n",
       "      <td>Psychiatric/Mental Health, Adult</td>\n",
       "      <td>Vanderbilt</td>\n",
       "      <td>53</td>\n",
       "      <td>47</td>\n",
       "      <td>1.000000</td>\n",
       "    </tr>\n",
       "    <tr>\n",
       "      <th>78</th>\n",
       "      <td>Clinical Genetics (M.D.)</td>\n",
       "      <td>Vanderbilt</td>\n",
       "      <td>66</td>\n",
       "      <td>53</td>\n",
       "      <td>1.000000</td>\n",
       "    </tr>\n",
       "    <tr>\n",
       "      <th>251</th>\n",
       "      <td>Obstetrics</td>\n",
       "      <td>Maury Regional Medical Group</td>\n",
       "      <td>134</td>\n",
       "      <td>94</td>\n",
       "      <td>1.000000</td>\n",
       "    </tr>\n",
       "    <tr>\n",
       "      <th>82</th>\n",
       "      <td>Corneal and Contact Management</td>\n",
       "      <td>Vanderbilt</td>\n",
       "      <td>93</td>\n",
       "      <td>71</td>\n",
       "      <td>1.000000</td>\n",
       "    </tr>\n",
       "    <tr>\n",
       "      <th>83</th>\n",
       "      <td>Counseling</td>\n",
       "      <td>Ascension</td>\n",
       "      <td>91</td>\n",
       "      <td>55</td>\n",
       "      <td>1.000000</td>\n",
       "    </tr>\n",
       "    <tr>\n",
       "      <th>...</th>\n",
       "      <td>...</td>\n",
       "      <td>...</td>\n",
       "      <td>...</td>\n",
       "      <td>...</td>\n",
       "      <td>...</td>\n",
       "    </tr>\n",
       "    <tr>\n",
       "      <th>318</th>\n",
       "      <td>Pulmonary Disease</td>\n",
       "      <td>HCA Healthcare</td>\n",
       "      <td>28458</td>\n",
       "      <td>11540</td>\n",
       "      <td>0.332191</td>\n",
       "    </tr>\n",
       "    <tr>\n",
       "      <th>224</th>\n",
       "      <td>Nephrology</td>\n",
       "      <td>Vanderbilt</td>\n",
       "      <td>20436</td>\n",
       "      <td>10324</td>\n",
       "      <td>0.312564</td>\n",
       "    </tr>\n",
       "    <tr>\n",
       "      <th>114</th>\n",
       "      <td>Family</td>\n",
       "      <td>Vanderbilt</td>\n",
       "      <td>25172</td>\n",
       "      <td>17454</td>\n",
       "      <td>0.295961</td>\n",
       "    </tr>\n",
       "    <tr>\n",
       "      <th>138</th>\n",
       "      <td>Gastroenterology</td>\n",
       "      <td>Vanderbilt</td>\n",
       "      <td>11407</td>\n",
       "      <td>7869</td>\n",
       "      <td>0.293773</td>\n",
       "    </tr>\n",
       "    <tr>\n",
       "      <th>373</th>\n",
       "      <td>Vascular Surgery</td>\n",
       "      <td>Vanderbilt</td>\n",
       "      <td>4560</td>\n",
       "      <td>3173</td>\n",
       "      <td>0.285676</td>\n",
       "    </tr>\n",
       "  </tbody>\n",
       "</table>\n",
       "<p>110 rows × 5 columns</p>\n",
       "</div>"
      ],
      "text/plain": [
       "                       specialization                    parent_org  \\\n",
       "310  Psychiatric/Mental Health, Adult                    Vanderbilt   \n",
       "78           Clinical Genetics (M.D.)                    Vanderbilt   \n",
       "251                        Obstetrics  Maury Regional Medical Group   \n",
       "82     Corneal and Contact Management                    Vanderbilt   \n",
       "83                         Counseling                     Ascension   \n",
       "..                                ...                           ...   \n",
       "318                 Pulmonary Disease                HCA Healthcare   \n",
       "224                        Nephrology                    Vanderbilt   \n",
       "114                            Family                    Vanderbilt   \n",
       "138                  Gastroenterology                    Vanderbilt   \n",
       "373                  Vascular Surgery                    Vanderbilt   \n",
       "\n",
       "     total_transactions  total_patients  patients_ratio  \n",
       "310                  53              47        1.000000  \n",
       "78                   66              53        1.000000  \n",
       "251                 134              94        1.000000  \n",
       "82                   93              71        1.000000  \n",
       "83                   91              55        1.000000  \n",
       "..                  ...             ...             ...  \n",
       "318               28458           11540        0.332191  \n",
       "224               20436           10324        0.312564  \n",
       "114               25172           17454        0.295961  \n",
       "138               11407            7869        0.293773  \n",
       "373                4560            3173        0.285676  \n",
       "\n",
       "[110 rows x 5 columns]"
      ]
     },
     "execution_count": 34,
     "metadata": {},
     "output_type": "execute_result"
    }
   ],
   "source": [
    "(\n",
    "special_referrals\n",
    "    .loc[special_referrals\n",
    "        .groupby(['specialization'])['patients_ratio']\n",
    "        .transform(max) == special_referrals['patients_ratio']]\n",
    "    .sort_values('patients_ratio', ascending = False)\n",
    ")"
   ]
  },
  {
   "attachments": {},
   "cell_type": "markdown",
   "metadata": {},
   "source": [
    "Sunburst Charts"
   ]
  },
  {
   "cell_type": "code",
   "execution_count": 53,
   "metadata": {},
   "outputs": [],
   "source": [
    "sunburst_data = (\n",
    "    special_referrals\n",
    "        .loc[special_referrals\n",
    "            .groupby(['specialization'])['patients_ratio']\n",
    "            .transform(max) == special_referrals['patients_ratio']]\n",
    "        .sort_values('patients_ratio', ascending = False)\n",
    "        .groupby('parent_org')['specialization']\n",
    "        .count()\n",
    "        .sort_values()\n",
    "        .reset_index()\n",
    "        .rename(columns={'parent_org': 'parent', 'specialization': 'value'})\n",
    ")\n"
   ]
  },
  {
   "cell_type": "code",
   "execution_count": 54,
   "metadata": {},
   "outputs": [],
   "source": [
    "exclude_list = ['other', 'Williamson Medical Group', 'High Point Health System']\n",
    "\n",
    "# Filter the DataFrame to exclude the rows with 'parent' values in the exclude_list\n",
    "sunburst_data_filtered = sunburst_data[~sunburst_data['parent'].isin(exclude_list)]"
   ]
  },
  {
   "cell_type": "code",
   "execution_count": 55,
   "metadata": {},
   "outputs": [
    {
     "name": "stderr",
     "output_type": "stream",
     "text": [
      "c:\\Users\\garre\\anaconda3\\lib\\site-packages\\plotly\\express\\_core.py:1637: FutureWarning:\n",
      "\n",
      "The frame.append method is deprecated and will be removed from pandas in a future version. Use pandas.concat instead.\n",
      "\n",
      "c:\\Users\\garre\\anaconda3\\lib\\site-packages\\plotly\\express\\_core.py:1637: FutureWarning:\n",
      "\n",
      "The frame.append method is deprecated and will be removed from pandas in a future version. Use pandas.concat instead.\n",
      "\n"
     ]
    },
    {
     "data": {
      "application/vnd.plotly.v1+json": {
       "config": {
        "plotlyServerURL": "https://plot.ly"
       },
       "data": [
        {
         "branchvalues": "total",
         "customdata": [
          [
           "Maury Regional Medical Group",
           8
          ],
          [
           "Ascension",
           9
          ],
          [
           "HCA Healthcare",
           19
          ],
          [
           "Vanderbilt",
           70
          ],
          [
           "",
           9
          ],
          [
           "",
           19
          ],
          [
           "",
           8
          ],
          [
           "",
           70
          ]
         ],
         "domain": {
          "x": [
           0,
           1
          ],
          "y": [
           0,
           1
          ]
         },
         "hovertemplate": "<b>%{customdata[0]}</b><br>%{label}: %{customdata[1]}",
         "ids": [
          "Maury Regional Medical Group/8",
          "Ascension/9",
          "HCA Healthcare/19",
          "Vanderbilt/70",
          "Ascension",
          "HCA Healthcare",
          "Maury Regional Medical Group",
          "Vanderbilt"
         ],
         "labels": [
          "8",
          "9",
          "19",
          "70",
          "Ascension",
          "HCA Healthcare",
          "Maury Regional Medical Group",
          "Vanderbilt"
         ],
         "marker": {
          "coloraxis": "coloraxis",
          "colors": [
           8,
           9,
           19,
           70,
           9,
           19,
           8,
           70
          ]
         },
         "name": "",
         "parents": [
          "Maury Regional Medical Group",
          "Ascension",
          "HCA Healthcare",
          "Vanderbilt",
          "",
          "",
          "",
          ""
         ],
         "type": "sunburst",
         "values": [
          8,
          9,
          19,
          70,
          9,
          19,
          8,
          70
         ]
        }
       ],
       "layout": {
        "coloraxis": {
         "colorbar": {
          "title": {
           "text": "value"
          }
         },
         "colorscale": [
          [
           0,
           "#005b96"
          ],
          [
           0.25,
           "#6497b1"
          ],
          [
           0.5,
           "#c3d7e2"
          ],
          [
           0.75,
           "#e8c547"
          ],
          [
           1,
           "#d90429"
          ]
         ]
        },
        "font": {
         "color": "#7f7f7f",
         "family": "Arial, sans-serif",
         "size": 16
        },
        "legend": {
         "tracegroupgap": 0
        },
        "margin": {
         "b": 20,
         "l": 20,
         "r": 20,
         "t": 50
        },
        "template": {
         "data": {
          "bar": [
           {
            "error_x": {
             "color": "#2a3f5f"
            },
            "error_y": {
             "color": "#2a3f5f"
            },
            "marker": {
             "line": {
              "color": "#E5ECF6",
              "width": 0.5
             },
             "pattern": {
              "fillmode": "overlay",
              "size": 10,
              "solidity": 0.2
             }
            },
            "type": "bar"
           }
          ],
          "barpolar": [
           {
            "marker": {
             "line": {
              "color": "#E5ECF6",
              "width": 0.5
             },
             "pattern": {
              "fillmode": "overlay",
              "size": 10,
              "solidity": 0.2
             }
            },
            "type": "barpolar"
           }
          ],
          "carpet": [
           {
            "aaxis": {
             "endlinecolor": "#2a3f5f",
             "gridcolor": "white",
             "linecolor": "white",
             "minorgridcolor": "white",
             "startlinecolor": "#2a3f5f"
            },
            "baxis": {
             "endlinecolor": "#2a3f5f",
             "gridcolor": "white",
             "linecolor": "white",
             "minorgridcolor": "white",
             "startlinecolor": "#2a3f5f"
            },
            "type": "carpet"
           }
          ],
          "choropleth": [
           {
            "colorbar": {
             "outlinewidth": 0,
             "ticks": ""
            },
            "type": "choropleth"
           }
          ],
          "contour": [
           {
            "colorbar": {
             "outlinewidth": 0,
             "ticks": ""
            },
            "colorscale": [
             [
              0,
              "#0d0887"
             ],
             [
              0.1111111111111111,
              "#46039f"
             ],
             [
              0.2222222222222222,
              "#7201a8"
             ],
             [
              0.3333333333333333,
              "#9c179e"
             ],
             [
              0.4444444444444444,
              "#bd3786"
             ],
             [
              0.5555555555555556,
              "#d8576b"
             ],
             [
              0.6666666666666666,
              "#ed7953"
             ],
             [
              0.7777777777777778,
              "#fb9f3a"
             ],
             [
              0.8888888888888888,
              "#fdca26"
             ],
             [
              1,
              "#f0f921"
             ]
            ],
            "type": "contour"
           }
          ],
          "contourcarpet": [
           {
            "colorbar": {
             "outlinewidth": 0,
             "ticks": ""
            },
            "type": "contourcarpet"
           }
          ],
          "heatmap": [
           {
            "colorbar": {
             "outlinewidth": 0,
             "ticks": ""
            },
            "colorscale": [
             [
              0,
              "#0d0887"
             ],
             [
              0.1111111111111111,
              "#46039f"
             ],
             [
              0.2222222222222222,
              "#7201a8"
             ],
             [
              0.3333333333333333,
              "#9c179e"
             ],
             [
              0.4444444444444444,
              "#bd3786"
             ],
             [
              0.5555555555555556,
              "#d8576b"
             ],
             [
              0.6666666666666666,
              "#ed7953"
             ],
             [
              0.7777777777777778,
              "#fb9f3a"
             ],
             [
              0.8888888888888888,
              "#fdca26"
             ],
             [
              1,
              "#f0f921"
             ]
            ],
            "type": "heatmap"
           }
          ],
          "heatmapgl": [
           {
            "colorbar": {
             "outlinewidth": 0,
             "ticks": ""
            },
            "colorscale": [
             [
              0,
              "#0d0887"
             ],
             [
              0.1111111111111111,
              "#46039f"
             ],
             [
              0.2222222222222222,
              "#7201a8"
             ],
             [
              0.3333333333333333,
              "#9c179e"
             ],
             [
              0.4444444444444444,
              "#bd3786"
             ],
             [
              0.5555555555555556,
              "#d8576b"
             ],
             [
              0.6666666666666666,
              "#ed7953"
             ],
             [
              0.7777777777777778,
              "#fb9f3a"
             ],
             [
              0.8888888888888888,
              "#fdca26"
             ],
             [
              1,
              "#f0f921"
             ]
            ],
            "type": "heatmapgl"
           }
          ],
          "histogram": [
           {
            "marker": {
             "pattern": {
              "fillmode": "overlay",
              "size": 10,
              "solidity": 0.2
             }
            },
            "type": "histogram"
           }
          ],
          "histogram2d": [
           {
            "colorbar": {
             "outlinewidth": 0,
             "ticks": ""
            },
            "colorscale": [
             [
              0,
              "#0d0887"
             ],
             [
              0.1111111111111111,
              "#46039f"
             ],
             [
              0.2222222222222222,
              "#7201a8"
             ],
             [
              0.3333333333333333,
              "#9c179e"
             ],
             [
              0.4444444444444444,
              "#bd3786"
             ],
             [
              0.5555555555555556,
              "#d8576b"
             ],
             [
              0.6666666666666666,
              "#ed7953"
             ],
             [
              0.7777777777777778,
              "#fb9f3a"
             ],
             [
              0.8888888888888888,
              "#fdca26"
             ],
             [
              1,
              "#f0f921"
             ]
            ],
            "type": "histogram2d"
           }
          ],
          "histogram2dcontour": [
           {
            "colorbar": {
             "outlinewidth": 0,
             "ticks": ""
            },
            "colorscale": [
             [
              0,
              "#0d0887"
             ],
             [
              0.1111111111111111,
              "#46039f"
             ],
             [
              0.2222222222222222,
              "#7201a8"
             ],
             [
              0.3333333333333333,
              "#9c179e"
             ],
             [
              0.4444444444444444,
              "#bd3786"
             ],
             [
              0.5555555555555556,
              "#d8576b"
             ],
             [
              0.6666666666666666,
              "#ed7953"
             ],
             [
              0.7777777777777778,
              "#fb9f3a"
             ],
             [
              0.8888888888888888,
              "#fdca26"
             ],
             [
              1,
              "#f0f921"
             ]
            ],
            "type": "histogram2dcontour"
           }
          ],
          "mesh3d": [
           {
            "colorbar": {
             "outlinewidth": 0,
             "ticks": ""
            },
            "type": "mesh3d"
           }
          ],
          "parcoords": [
           {
            "line": {
             "colorbar": {
              "outlinewidth": 0,
              "ticks": ""
             }
            },
            "type": "parcoords"
           }
          ],
          "pie": [
           {
            "automargin": true,
            "type": "pie"
           }
          ],
          "scatter": [
           {
            "marker": {
             "colorbar": {
              "outlinewidth": 0,
              "ticks": ""
             }
            },
            "type": "scatter"
           }
          ],
          "scatter3d": [
           {
            "line": {
             "colorbar": {
              "outlinewidth": 0,
              "ticks": ""
             }
            },
            "marker": {
             "colorbar": {
              "outlinewidth": 0,
              "ticks": ""
             }
            },
            "type": "scatter3d"
           }
          ],
          "scattercarpet": [
           {
            "marker": {
             "colorbar": {
              "outlinewidth": 0,
              "ticks": ""
             }
            },
            "type": "scattercarpet"
           }
          ],
          "scattergeo": [
           {
            "marker": {
             "colorbar": {
              "outlinewidth": 0,
              "ticks": ""
             }
            },
            "type": "scattergeo"
           }
          ],
          "scattergl": [
           {
            "marker": {
             "colorbar": {
              "outlinewidth": 0,
              "ticks": ""
             }
            },
            "type": "scattergl"
           }
          ],
          "scattermapbox": [
           {
            "marker": {
             "colorbar": {
              "outlinewidth": 0,
              "ticks": ""
             }
            },
            "type": "scattermapbox"
           }
          ],
          "scatterpolar": [
           {
            "marker": {
             "colorbar": {
              "outlinewidth": 0,
              "ticks": ""
             }
            },
            "type": "scatterpolar"
           }
          ],
          "scatterpolargl": [
           {
            "marker": {
             "colorbar": {
              "outlinewidth": 0,
              "ticks": ""
             }
            },
            "type": "scatterpolargl"
           }
          ],
          "scatterternary": [
           {
            "marker": {
             "colorbar": {
              "outlinewidth": 0,
              "ticks": ""
             }
            },
            "type": "scatterternary"
           }
          ],
          "surface": [
           {
            "colorbar": {
             "outlinewidth": 0,
             "ticks": ""
            },
            "colorscale": [
             [
              0,
              "#0d0887"
             ],
             [
              0.1111111111111111,
              "#46039f"
             ],
             [
              0.2222222222222222,
              "#7201a8"
             ],
             [
              0.3333333333333333,
              "#9c179e"
             ],
             [
              0.4444444444444444,
              "#bd3786"
             ],
             [
              0.5555555555555556,
              "#d8576b"
             ],
             [
              0.6666666666666666,
              "#ed7953"
             ],
             [
              0.7777777777777778,
              "#fb9f3a"
             ],
             [
              0.8888888888888888,
              "#fdca26"
             ],
             [
              1,
              "#f0f921"
             ]
            ],
            "type": "surface"
           }
          ],
          "table": [
           {
            "cells": {
             "fill": {
              "color": "#EBF0F8"
             },
             "line": {
              "color": "white"
             }
            },
            "header": {
             "fill": {
              "color": "#C8D4E3"
             },
             "line": {
              "color": "white"
             }
            },
            "type": "table"
           }
          ]
         },
         "layout": {
          "annotationdefaults": {
           "arrowcolor": "#2a3f5f",
           "arrowhead": 0,
           "arrowwidth": 1
          },
          "autotypenumbers": "strict",
          "coloraxis": {
           "colorbar": {
            "outlinewidth": 0,
            "ticks": ""
           }
          },
          "colorscale": {
           "diverging": [
            [
             0,
             "#8e0152"
            ],
            [
             0.1,
             "#c51b7d"
            ],
            [
             0.2,
             "#de77ae"
            ],
            [
             0.3,
             "#f1b6da"
            ],
            [
             0.4,
             "#fde0ef"
            ],
            [
             0.5,
             "#f7f7f7"
            ],
            [
             0.6,
             "#e6f5d0"
            ],
            [
             0.7,
             "#b8e186"
            ],
            [
             0.8,
             "#7fbc41"
            ],
            [
             0.9,
             "#4d9221"
            ],
            [
             1,
             "#276419"
            ]
           ],
           "sequential": [
            [
             0,
             "#0d0887"
            ],
            [
             0.1111111111111111,
             "#46039f"
            ],
            [
             0.2222222222222222,
             "#7201a8"
            ],
            [
             0.3333333333333333,
             "#9c179e"
            ],
            [
             0.4444444444444444,
             "#bd3786"
            ],
            [
             0.5555555555555556,
             "#d8576b"
            ],
            [
             0.6666666666666666,
             "#ed7953"
            ],
            [
             0.7777777777777778,
             "#fb9f3a"
            ],
            [
             0.8888888888888888,
             "#fdca26"
            ],
            [
             1,
             "#f0f921"
            ]
           ],
           "sequentialminus": [
            [
             0,
             "#0d0887"
            ],
            [
             0.1111111111111111,
             "#46039f"
            ],
            [
             0.2222222222222222,
             "#7201a8"
            ],
            [
             0.3333333333333333,
             "#9c179e"
            ],
            [
             0.4444444444444444,
             "#bd3786"
            ],
            [
             0.5555555555555556,
             "#d8576b"
            ],
            [
             0.6666666666666666,
             "#ed7953"
            ],
            [
             0.7777777777777778,
             "#fb9f3a"
            ],
            [
             0.8888888888888888,
             "#fdca26"
            ],
            [
             1,
             "#f0f921"
            ]
           ]
          },
          "colorway": [
           "#636efa",
           "#EF553B",
           "#00cc96",
           "#ab63fa",
           "#FFA15A",
           "#19d3f3",
           "#FF6692",
           "#B6E880",
           "#FF97FF",
           "#FECB52"
          ],
          "font": {
           "color": "#2a3f5f"
          },
          "geo": {
           "bgcolor": "white",
           "lakecolor": "white",
           "landcolor": "#E5ECF6",
           "showlakes": true,
           "showland": true,
           "subunitcolor": "white"
          },
          "hoverlabel": {
           "align": "left"
          },
          "hovermode": "closest",
          "mapbox": {
           "style": "light"
          },
          "paper_bgcolor": "white",
          "plot_bgcolor": "#E5ECF6",
          "polar": {
           "angularaxis": {
            "gridcolor": "white",
            "linecolor": "white",
            "ticks": ""
           },
           "bgcolor": "#E5ECF6",
           "radialaxis": {
            "gridcolor": "white",
            "linecolor": "white",
            "ticks": ""
           }
          },
          "scene": {
           "xaxis": {
            "backgroundcolor": "#E5ECF6",
            "gridcolor": "white",
            "gridwidth": 2,
            "linecolor": "white",
            "showbackground": true,
            "ticks": "",
            "zerolinecolor": "white"
           },
           "yaxis": {
            "backgroundcolor": "#E5ECF6",
            "gridcolor": "white",
            "gridwidth": 2,
            "linecolor": "white",
            "showbackground": true,
            "ticks": "",
            "zerolinecolor": "white"
           },
           "zaxis": {
            "backgroundcolor": "#E5ECF6",
            "gridcolor": "white",
            "gridwidth": 2,
            "linecolor": "white",
            "showbackground": true,
            "ticks": "",
            "zerolinecolor": "white"
           }
          },
          "shapedefaults": {
           "line": {
            "color": "#2a3f5f"
           }
          },
          "ternary": {
           "aaxis": {
            "gridcolor": "white",
            "linecolor": "white",
            "ticks": ""
           },
           "baxis": {
            "gridcolor": "white",
            "linecolor": "white",
            "ticks": ""
           },
           "bgcolor": "#E5ECF6",
           "caxis": {
            "gridcolor": "white",
            "linecolor": "white",
            "ticks": ""
           }
          },
          "title": {
           "x": 0.05
          },
          "xaxis": {
           "automargin": true,
           "gridcolor": "white",
           "linecolor": "white",
           "ticks": "",
           "title": {
            "standoff": 15
           },
           "zerolinecolor": "white",
           "zerolinewidth": 2
          },
          "yaxis": {
           "automargin": true,
           "gridcolor": "white",
           "linecolor": "white",
           "ticks": "",
           "title": {
            "standoff": 15
           },
           "zerolinecolor": "white",
           "zerolinewidth": 2
          }
         }
        },
        "width": 800
       }
      }
     },
     "metadata": {},
     "output_type": "display_data"
    }
   ],
   "source": [
    "fig = px.sunburst(\n",
    "    sunburst_data_filtered, \n",
    "    path=['parent', 'value'], \n",
    "    values='value',\n",
    "    color='value',\n",
    "    color_continuous_scale=[\n",
    "        [0, '#005b96'],\n",
    "        [0.25, '#6497b1'],\n",
    "        [0.5, '#c3d7e2'],\n",
    "        [0.75, '#e8c547'],\n",
    "        [1, '#d90429'],\n",
    "    ],\n",
    "    custom_data=['parent', 'value']\n",
    ")\n",
    "\n",
    "fig.update_traces(\n",
    "    hovertemplate='<b>%{customdata[0]}</b><br>%{label}: %{customdata[1]}'\n",
    ")\n",
    "\n",
    "fig.update_layout(\n",
    "    font=dict(\n",
    "        family='Arial, sans-serif',\n",
    "        size=16,\n",
    "        color='#7f7f7f'\n",
    "    ),\n",
    "    margin=dict(l=20, r=20, t=50, b=20),\n",
    "    width=800\n",
    ")\n",
    "\n",
    "fig.show()\n",
    "\n",
    "# Write the sunburst chart to an HTML file\n",
    "#pio.write_html(fig, 'sunburst_chart.html')\n"
   ]
  },
  {
   "attachments": {},
   "cell_type": "markdown",
   "metadata": {},
   "source": [
    "Next Sunburst Chart"
   ]
  },
  {
   "cell_type": "code",
   "execution_count": 67,
   "metadata": {},
   "outputs": [
    {
     "data": {
      "text/plain": [
       "specialization\n",
       "Family                    270\n",
       "Diagnostic Radiology      129\n",
       "Cardiovascular Disease     64\n",
       "Acute Care                 59\n",
       "Pulmonary Disease          54\n",
       "Name: from_npi, dtype: int64"
      ]
     },
     "execution_count": 67,
     "metadata": {},
     "output_type": "execute_result"
    }
   ],
   "source": [
    "(\n",
    "    providers_to_major\n",
    "    .loc[~providers_to_major['from_npi']\n",
    "            .isin(providers_to_major\n",
    "                .loc[providers_to_major['parent_org'] == 'Vanderbilt']\n",
    "                ['from_npi']\n",
    "                .unique())]\n",
    "    .groupby('specialization')\n",
    "    ['from_npi']\n",
    "    .nunique()\n",
    "    .sort_values(ascending=False)\n",
    "    .head(5)\n",
    ")\n"
   ]
  },
  {
   "cell_type": "code",
   "execution_count": 71,
   "metadata": {},
   "outputs": [
    {
     "name": "stderr",
     "output_type": "stream",
     "text": [
      "c:\\Users\\garre\\anaconda3\\lib\\site-packages\\plotly\\express\\_core.py:1637: FutureWarning:\n",
      "\n",
      "The frame.append method is deprecated and will be removed from pandas in a future version. Use pandas.concat instead.\n",
      "\n"
     ]
    },
    {
     "data": {
      "application/vnd.plotly.v1+json": {
       "config": {
        "plotlyServerURL": "https://plot.ly"
       },
       "data": [
        {
         "branchvalues": "total",
         "customdata": [
          [
           "Acute Care",
           59
          ],
          [
           "Cardiovascular Disease",
           64
          ],
          [
           "Diagnostic Radiology",
           129
          ],
          [
           "Family",
           270
          ],
          [
           "Pulmonary Disease",
           54
          ]
         ],
         "domain": {
          "x": [
           0,
           1
          ],
          "y": [
           0,
           1
          ]
         },
         "hovertemplate": "<b>%{customdata[0]}</b><br>%{label}: %{customdata[1]}",
         "ids": [
          "Acute Care",
          "Cardiovascular Disease",
          "Diagnostic Radiology",
          "Family",
          "Pulmonary Disease"
         ],
         "labels": [
          "Acute Care",
          "Cardiovascular Disease",
          "Diagnostic Radiology",
          "Family",
          "Pulmonary Disease"
         ],
         "marker": {
          "coloraxis": "coloraxis",
          "colors": [
           59,
           64,
           129,
           270,
           54
          ]
         },
         "name": "",
         "parents": [
          "",
          "",
          "",
          "",
          ""
         ],
         "type": "sunburst",
         "values": [
          59,
          64,
          129,
          270,
          54
         ]
        }
       ],
       "layout": {
        "coloraxis": {
         "colorbar": {
          "title": {
           "text": "value"
          }
         },
         "colorscale": [
          [
           0,
           "#005b96"
          ],
          [
           0.25,
           "#6497b1"
          ],
          [
           0.5,
           "#c3d7e2"
          ],
          [
           0.75,
           "#e8c547"
          ],
          [
           1,
           "#d90429"
          ]
         ]
        },
        "font": {
         "color": "#7f7f7f",
         "family": "Arial, sans-serif",
         "size": 16
        },
        "legend": {
         "tracegroupgap": 0
        },
        "margin": {
         "b": 20,
         "l": 20,
         "r": 20,
         "t": 50
        },
        "template": {
         "data": {
          "bar": [
           {
            "error_x": {
             "color": "#2a3f5f"
            },
            "error_y": {
             "color": "#2a3f5f"
            },
            "marker": {
             "line": {
              "color": "#E5ECF6",
              "width": 0.5
             },
             "pattern": {
              "fillmode": "overlay",
              "size": 10,
              "solidity": 0.2
             }
            },
            "type": "bar"
           }
          ],
          "barpolar": [
           {
            "marker": {
             "line": {
              "color": "#E5ECF6",
              "width": 0.5
             },
             "pattern": {
              "fillmode": "overlay",
              "size": 10,
              "solidity": 0.2
             }
            },
            "type": "barpolar"
           }
          ],
          "carpet": [
           {
            "aaxis": {
             "endlinecolor": "#2a3f5f",
             "gridcolor": "white",
             "linecolor": "white",
             "minorgridcolor": "white",
             "startlinecolor": "#2a3f5f"
            },
            "baxis": {
             "endlinecolor": "#2a3f5f",
             "gridcolor": "white",
             "linecolor": "white",
             "minorgridcolor": "white",
             "startlinecolor": "#2a3f5f"
            },
            "type": "carpet"
           }
          ],
          "choropleth": [
           {
            "colorbar": {
             "outlinewidth": 0,
             "ticks": ""
            },
            "type": "choropleth"
           }
          ],
          "contour": [
           {
            "colorbar": {
             "outlinewidth": 0,
             "ticks": ""
            },
            "colorscale": [
             [
              0,
              "#0d0887"
             ],
             [
              0.1111111111111111,
              "#46039f"
             ],
             [
              0.2222222222222222,
              "#7201a8"
             ],
             [
              0.3333333333333333,
              "#9c179e"
             ],
             [
              0.4444444444444444,
              "#bd3786"
             ],
             [
              0.5555555555555556,
              "#d8576b"
             ],
             [
              0.6666666666666666,
              "#ed7953"
             ],
             [
              0.7777777777777778,
              "#fb9f3a"
             ],
             [
              0.8888888888888888,
              "#fdca26"
             ],
             [
              1,
              "#f0f921"
             ]
            ],
            "type": "contour"
           }
          ],
          "contourcarpet": [
           {
            "colorbar": {
             "outlinewidth": 0,
             "ticks": ""
            },
            "type": "contourcarpet"
           }
          ],
          "heatmap": [
           {
            "colorbar": {
             "outlinewidth": 0,
             "ticks": ""
            },
            "colorscale": [
             [
              0,
              "#0d0887"
             ],
             [
              0.1111111111111111,
              "#46039f"
             ],
             [
              0.2222222222222222,
              "#7201a8"
             ],
             [
              0.3333333333333333,
              "#9c179e"
             ],
             [
              0.4444444444444444,
              "#bd3786"
             ],
             [
              0.5555555555555556,
              "#d8576b"
             ],
             [
              0.6666666666666666,
              "#ed7953"
             ],
             [
              0.7777777777777778,
              "#fb9f3a"
             ],
             [
              0.8888888888888888,
              "#fdca26"
             ],
             [
              1,
              "#f0f921"
             ]
            ],
            "type": "heatmap"
           }
          ],
          "heatmapgl": [
           {
            "colorbar": {
             "outlinewidth": 0,
             "ticks": ""
            },
            "colorscale": [
             [
              0,
              "#0d0887"
             ],
             [
              0.1111111111111111,
              "#46039f"
             ],
             [
              0.2222222222222222,
              "#7201a8"
             ],
             [
              0.3333333333333333,
              "#9c179e"
             ],
             [
              0.4444444444444444,
              "#bd3786"
             ],
             [
              0.5555555555555556,
              "#d8576b"
             ],
             [
              0.6666666666666666,
              "#ed7953"
             ],
             [
              0.7777777777777778,
              "#fb9f3a"
             ],
             [
              0.8888888888888888,
              "#fdca26"
             ],
             [
              1,
              "#f0f921"
             ]
            ],
            "type": "heatmapgl"
           }
          ],
          "histogram": [
           {
            "marker": {
             "pattern": {
              "fillmode": "overlay",
              "size": 10,
              "solidity": 0.2
             }
            },
            "type": "histogram"
           }
          ],
          "histogram2d": [
           {
            "colorbar": {
             "outlinewidth": 0,
             "ticks": ""
            },
            "colorscale": [
             [
              0,
              "#0d0887"
             ],
             [
              0.1111111111111111,
              "#46039f"
             ],
             [
              0.2222222222222222,
              "#7201a8"
             ],
             [
              0.3333333333333333,
              "#9c179e"
             ],
             [
              0.4444444444444444,
              "#bd3786"
             ],
             [
              0.5555555555555556,
              "#d8576b"
             ],
             [
              0.6666666666666666,
              "#ed7953"
             ],
             [
              0.7777777777777778,
              "#fb9f3a"
             ],
             [
              0.8888888888888888,
              "#fdca26"
             ],
             [
              1,
              "#f0f921"
             ]
            ],
            "type": "histogram2d"
           }
          ],
          "histogram2dcontour": [
           {
            "colorbar": {
             "outlinewidth": 0,
             "ticks": ""
            },
            "colorscale": [
             [
              0,
              "#0d0887"
             ],
             [
              0.1111111111111111,
              "#46039f"
             ],
             [
              0.2222222222222222,
              "#7201a8"
             ],
             [
              0.3333333333333333,
              "#9c179e"
             ],
             [
              0.4444444444444444,
              "#bd3786"
             ],
             [
              0.5555555555555556,
              "#d8576b"
             ],
             [
              0.6666666666666666,
              "#ed7953"
             ],
             [
              0.7777777777777778,
              "#fb9f3a"
             ],
             [
              0.8888888888888888,
              "#fdca26"
             ],
             [
              1,
              "#f0f921"
             ]
            ],
            "type": "histogram2dcontour"
           }
          ],
          "mesh3d": [
           {
            "colorbar": {
             "outlinewidth": 0,
             "ticks": ""
            },
            "type": "mesh3d"
           }
          ],
          "parcoords": [
           {
            "line": {
             "colorbar": {
              "outlinewidth": 0,
              "ticks": ""
             }
            },
            "type": "parcoords"
           }
          ],
          "pie": [
           {
            "automargin": true,
            "type": "pie"
           }
          ],
          "scatter": [
           {
            "marker": {
             "colorbar": {
              "outlinewidth": 0,
              "ticks": ""
             }
            },
            "type": "scatter"
           }
          ],
          "scatter3d": [
           {
            "line": {
             "colorbar": {
              "outlinewidth": 0,
              "ticks": ""
             }
            },
            "marker": {
             "colorbar": {
              "outlinewidth": 0,
              "ticks": ""
             }
            },
            "type": "scatter3d"
           }
          ],
          "scattercarpet": [
           {
            "marker": {
             "colorbar": {
              "outlinewidth": 0,
              "ticks": ""
             }
            },
            "type": "scattercarpet"
           }
          ],
          "scattergeo": [
           {
            "marker": {
             "colorbar": {
              "outlinewidth": 0,
              "ticks": ""
             }
            },
            "type": "scattergeo"
           }
          ],
          "scattergl": [
           {
            "marker": {
             "colorbar": {
              "outlinewidth": 0,
              "ticks": ""
             }
            },
            "type": "scattergl"
           }
          ],
          "scattermapbox": [
           {
            "marker": {
             "colorbar": {
              "outlinewidth": 0,
              "ticks": ""
             }
            },
            "type": "scattermapbox"
           }
          ],
          "scatterpolar": [
           {
            "marker": {
             "colorbar": {
              "outlinewidth": 0,
              "ticks": ""
             }
            },
            "type": "scatterpolar"
           }
          ],
          "scatterpolargl": [
           {
            "marker": {
             "colorbar": {
              "outlinewidth": 0,
              "ticks": ""
             }
            },
            "type": "scatterpolargl"
           }
          ],
          "scatterternary": [
           {
            "marker": {
             "colorbar": {
              "outlinewidth": 0,
              "ticks": ""
             }
            },
            "type": "scatterternary"
           }
          ],
          "surface": [
           {
            "colorbar": {
             "outlinewidth": 0,
             "ticks": ""
            },
            "colorscale": [
             [
              0,
              "#0d0887"
             ],
             [
              0.1111111111111111,
              "#46039f"
             ],
             [
              0.2222222222222222,
              "#7201a8"
             ],
             [
              0.3333333333333333,
              "#9c179e"
             ],
             [
              0.4444444444444444,
              "#bd3786"
             ],
             [
              0.5555555555555556,
              "#d8576b"
             ],
             [
              0.6666666666666666,
              "#ed7953"
             ],
             [
              0.7777777777777778,
              "#fb9f3a"
             ],
             [
              0.8888888888888888,
              "#fdca26"
             ],
             [
              1,
              "#f0f921"
             ]
            ],
            "type": "surface"
           }
          ],
          "table": [
           {
            "cells": {
             "fill": {
              "color": "#EBF0F8"
             },
             "line": {
              "color": "white"
             }
            },
            "header": {
             "fill": {
              "color": "#C8D4E3"
             },
             "line": {
              "color": "white"
             }
            },
            "type": "table"
           }
          ]
         },
         "layout": {
          "annotationdefaults": {
           "arrowcolor": "#2a3f5f",
           "arrowhead": 0,
           "arrowwidth": 1
          },
          "autotypenumbers": "strict",
          "coloraxis": {
           "colorbar": {
            "outlinewidth": 0,
            "ticks": ""
           }
          },
          "colorscale": {
           "diverging": [
            [
             0,
             "#8e0152"
            ],
            [
             0.1,
             "#c51b7d"
            ],
            [
             0.2,
             "#de77ae"
            ],
            [
             0.3,
             "#f1b6da"
            ],
            [
             0.4,
             "#fde0ef"
            ],
            [
             0.5,
             "#f7f7f7"
            ],
            [
             0.6,
             "#e6f5d0"
            ],
            [
             0.7,
             "#b8e186"
            ],
            [
             0.8,
             "#7fbc41"
            ],
            [
             0.9,
             "#4d9221"
            ],
            [
             1,
             "#276419"
            ]
           ],
           "sequential": [
            [
             0,
             "#0d0887"
            ],
            [
             0.1111111111111111,
             "#46039f"
            ],
            [
             0.2222222222222222,
             "#7201a8"
            ],
            [
             0.3333333333333333,
             "#9c179e"
            ],
            [
             0.4444444444444444,
             "#bd3786"
            ],
            [
             0.5555555555555556,
             "#d8576b"
            ],
            [
             0.6666666666666666,
             "#ed7953"
            ],
            [
             0.7777777777777778,
             "#fb9f3a"
            ],
            [
             0.8888888888888888,
             "#fdca26"
            ],
            [
             1,
             "#f0f921"
            ]
           ],
           "sequentialminus": [
            [
             0,
             "#0d0887"
            ],
            [
             0.1111111111111111,
             "#46039f"
            ],
            [
             0.2222222222222222,
             "#7201a8"
            ],
            [
             0.3333333333333333,
             "#9c179e"
            ],
            [
             0.4444444444444444,
             "#bd3786"
            ],
            [
             0.5555555555555556,
             "#d8576b"
            ],
            [
             0.6666666666666666,
             "#ed7953"
            ],
            [
             0.7777777777777778,
             "#fb9f3a"
            ],
            [
             0.8888888888888888,
             "#fdca26"
            ],
            [
             1,
             "#f0f921"
            ]
           ]
          },
          "colorway": [
           "#636efa",
           "#EF553B",
           "#00cc96",
           "#ab63fa",
           "#FFA15A",
           "#19d3f3",
           "#FF6692",
           "#B6E880",
           "#FF97FF",
           "#FECB52"
          ],
          "font": {
           "color": "#2a3f5f"
          },
          "geo": {
           "bgcolor": "white",
           "lakecolor": "white",
           "landcolor": "#E5ECF6",
           "showlakes": true,
           "showland": true,
           "subunitcolor": "white"
          },
          "hoverlabel": {
           "align": "left"
          },
          "hovermode": "closest",
          "mapbox": {
           "style": "light"
          },
          "paper_bgcolor": "white",
          "plot_bgcolor": "#E5ECF6",
          "polar": {
           "angularaxis": {
            "gridcolor": "white",
            "linecolor": "white",
            "ticks": ""
           },
           "bgcolor": "#E5ECF6",
           "radialaxis": {
            "gridcolor": "white",
            "linecolor": "white",
            "ticks": ""
           }
          },
          "scene": {
           "xaxis": {
            "backgroundcolor": "#E5ECF6",
            "gridcolor": "white",
            "gridwidth": 2,
            "linecolor": "white",
            "showbackground": true,
            "ticks": "",
            "zerolinecolor": "white"
           },
           "yaxis": {
            "backgroundcolor": "#E5ECF6",
            "gridcolor": "white",
            "gridwidth": 2,
            "linecolor": "white",
            "showbackground": true,
            "ticks": "",
            "zerolinecolor": "white"
           },
           "zaxis": {
            "backgroundcolor": "#E5ECF6",
            "gridcolor": "white",
            "gridwidth": 2,
            "linecolor": "white",
            "showbackground": true,
            "ticks": "",
            "zerolinecolor": "white"
           }
          },
          "shapedefaults": {
           "line": {
            "color": "#2a3f5f"
           }
          },
          "ternary": {
           "aaxis": {
            "gridcolor": "white",
            "linecolor": "white",
            "ticks": ""
           },
           "baxis": {
            "gridcolor": "white",
            "linecolor": "white",
            "ticks": ""
           },
           "bgcolor": "#E5ECF6",
           "caxis": {
            "gridcolor": "white",
            "linecolor": "white",
            "ticks": ""
           }
          },
          "title": {
           "x": 0.05
          },
          "xaxis": {
           "automargin": true,
           "gridcolor": "white",
           "linecolor": "white",
           "ticks": "",
           "title": {
            "standoff": 15
           },
           "zerolinecolor": "white",
           "zerolinewidth": 2
          },
          "yaxis": {
           "automargin": true,
           "gridcolor": "white",
           "linecolor": "white",
           "ticks": "",
           "title": {
            "standoff": 15
           },
           "zerolinecolor": "white",
           "zerolinewidth": 2
          }
         }
        },
        "width": 800
       }
      }
     },
     "metadata": {},
     "output_type": "display_data"
    }
   ],
   "source": [
    "# Your code to create the sunburst_data_filtered DataFrame goes here\n",
    "providers_to_major_filtered = providers_to_major.loc[~providers_to_major['from_npi'].isin(providers_to_major.loc[providers_to_major['parent_org'] == 'Vanderbilt']['from_npi'].unique())]\n",
    "\n",
    "# Create the sunburst chart\n",
    "fig = px.sunburst(\n",
    "    providers_to_major_filtered.groupby('specialization')['from_npi']\n",
    "    .nunique()\n",
    "    .sort_values(ascending=False)\n",
    "    .reset_index(name='value')\n",
    "    .head(5),  # Select only the top 5 specializations\n",
    "    path=['specialization'],\n",
    "    values='value',\n",
    "    color='value',\n",
    "    color_continuous_scale=[        [0, '#005b96'],\n",
    "        [0.25, '#6497b1'],\n",
    "        [0.5, '#c3d7e2'],\n",
    "        [0.75, '#e8c547'],\n",
    "        [1, '#d90429'],\n",
    "    ],\n",
    "    custom_data=['specialization', 'value']\n",
    ")\n",
    "\n",
    "fig.update_traces(\n",
    "    hovertemplate='<b>%{customdata[0]}</b><br>%{label}: %{customdata[1]}'\n",
    ")\n",
    "\n",
    "fig.update_layout(\n",
    "    font=dict(\n",
    "        family='Arial, sans-serif',\n",
    "        size=16,\n",
    "        color='#7f7f7f'\n",
    "    ),\n",
    "    margin=dict(l=20, r=20, t=50, b=20),\n",
    "    width=800\n",
    ")\n",
    "\n",
    "fig.show()\n"
   ]
  }
 ],
 "metadata": {
  "kernelspec": {
   "display_name": "base",
   "language": "python",
   "name": "python3"
  },
  "language_info": {
   "codemirror_mode": {
    "name": "ipython",
    "version": 3
   },
   "file_extension": ".py",
   "mimetype": "text/x-python",
   "name": "python",
   "nbconvert_exporter": "python",
   "pygments_lexer": "ipython3",
   "version": "3.9.12"
  },
  "orig_nbformat": 4,
  "vscode": {
   "interpreter": {
    "hash": "69d1a9810791efba60ce1ea10d959bc27178a9f5611c0b5d3e3e72cf5155612b"
   }
  }
 },
 "nbformat": 4,
 "nbformat_minor": 2
}
