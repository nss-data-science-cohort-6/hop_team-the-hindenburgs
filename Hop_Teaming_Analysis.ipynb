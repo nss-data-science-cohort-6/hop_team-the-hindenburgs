{
 "cells": [
  {
   "cell_type": "code",
   "execution_count": 2,
   "id": "1e0d6bde",
   "metadata": {},
   "outputs": [],
   "source": [
    "import sqlite3\n",
    "import pandas as pd"
   ]
  },
  {
   "cell_type": "code",
   "execution_count": 3,
   "id": "9e62e6d3",
   "metadata": {},
   "outputs": [],
   "source": [
    "db = sqlite3.connect('Hop_Teaming_2018.sqlite')"
   ]
  },
  {
   "cell_type": "code",
   "execution_count": 5,
   "id": "622a5982",
   "metadata": {},
   "outputs": [],
   "source": [
    "with sqlite3.connect('Hop_Teaming_2018.sqlite') as db: \n",
    "    sqliteCursor = db.cursor()\n",
    "    db.execute('CREATE UNIQUE INDEX IF NOT EXISTS nppes_npi ON nppes (npi)')\n",
    "    db.execute('CREATE UNIQUE INDEX IF NOT EXISTS taxonomy_code ON taxonomy (code)')\n",
    "    db.execute('CREATE UNIQUE INDEX IF NOT EXISTS display_name ON taxonomy (display_name)')\n",
    "    db.execute('CREATE INDEX IF NOT EXISTS section ON taxonomy (section)')\n",
    "    db.execute('CREATE INDEX IF NOT EXISTS nppes_organization_name ON nppes (`provider_organization_name_(legal_business_name)`)')"
   ]
  },
  {
   "cell_type": "markdown",
   "id": "c5ebc28f",
   "metadata": {},
   "source": [
    "## First, build a profile of providers referring patients to the major hospitals in Nashville. Are certain specialties more likely to refer to a particular hospital over the others?\n",
    "\n",
    "To get major hospitals:  \n",
    "1. join zip_cbsa table (cbsa 94180)\n",
    "2. file the total number of referrals order by DESC\n",
    "3. select top 10 / 15 entity with highest number of referrals"
   ]
  },
  {
   "cell_type": "markdown",
   "id": "6c102417",
   "metadata": {},
   "source": [
    "EXPLAIN QUERY PLAN - show estimated query run time "
   ]
  },
  {
   "cell_type": "code",
   "execution_count": 16,
   "id": "09acbd29",
   "metadata": {},
   "outputs": [],
   "source": [
    "query = '''\n",
    "SELECT t.specialization, n2.`provider_organization_name_(legal_business_name)`, \n",
    "       SUM(hop.transaction_count) AS patients_referral\n",
    "FROM Hop_Teaming_2018 AS hop\n",
    "INNER JOIN nppes n1\n",
    "ON hop.from_npi = n1.npi\n",
    "INNER JOIN nppes n2\n",
    "ON hop.to_npi = n2.npi \n",
    "INNER JOIN taxonomy as t\n",
    "ON n1.primary_taxonomy = t.code\n",
    "WHERE n1.entity_type_code = 1\n",
    "    AND n2.provider_business_practice_location_address_city_name = 'NASHVILLE'\n",
    "    AND n2.provider_business_practice_location_address_state_name = 'TN'\n",
    "    AND n2.entity_type_code = 2\n",
    "    AND t.specialization <> 'None'\n",
    "GROUP BY t.specialization, n2.`provider_organization_name_(legal_business_name)`\n",
    "ORDER BY patients_referral DESC\n",
    "LIMIT 100;\n",
    "'''"
   ]
  },
  {
   "cell_type": "code",
   "execution_count": 12,
   "id": "7420ae51",
   "metadata": {},
   "outputs": [],
   "source": [
    "query = '''\n",
    "SELECT t.specialization, t.display_name, \n",
    "       SUM(hop.transaction_count) AS patients_referral\n",
    "FROM Hop_Teaming_2018 AS hop\n",
    "INNER JOIN nppes n1\n",
    "ON hop.from_npi = n1.npi\n",
    "INNER JOIN nppes n2\n",
    "ON hop.to_npi = n2.npi \n",
    "INNER JOIN taxonomy as t\n",
    "ON n1.primary_taxonomy = t.code\n",
    "WHERE n1.entity_type_code = 1\n",
    "    AND n2.provider_business_practice_location_address_postal_code LIKE '37%'\n",
    "    AND n2.entity_type_code = 2\n",
    "    AND t.specialization <> 'None'\n",
    "    AND t.display_name LIKE '%Hospital'\n",
    "    AND t.section = 'Non-Individual'\n",
    "GROUP BY t.specialization, t.display_name\n",
    "ORDER BY patients_referral DESC\n",
    "LIMIT 20;\n",
    "'''"
   ]
  },
  {
   "cell_type": "markdown",
   "id": "592f8a38",
   "metadata": {},
   "source": [
    "## Tomo filters added (t.display_name LIKE '%Hospital%', t.section = 'Non-Individual')"
   ]
  },
  {
   "cell_type": "code",
   "execution_count": null,
   "id": "70645611",
   "metadata": {},
   "outputs": [],
   "source": [
    "SELECT DISTINCT organization_name\n",
    "FROM nnpes AS np\n",
    "INNER JOIN nucc_taxonomy AS nt\n",
    "ON np.primary_taxonomy = nt.code\n",
    "WHERE entity_type_code = 2.0\n",
    "    AND addresS_city_name = 'NASHVILLE'\n",
    "    AND addresS_state_name = 'TN'\n",
    "    AND display_name LIKE '%Hospital%'\n",
    "    AND section = 'Non-Individual'\n",
    "    \n",
    "#query = \"\"\"\n",
    "#SELECT *\n",
    "#FROM nnpes AS np\n",
    "#INNER JOIN nucc_taxonomy AS nt\n",
    "#ON np.primary_taxonomy = nt.code\n",
    "#WHERE organization_name LIKE '%TriStar%'\n",
    "#    AND entity_type_code = 2.0\n",
    "#    AND address_city_name = 'NASHVILLE'\n",
    "#    AND address_state_name = 'TN'\n",
    "#\"\"\""
   ]
  },
  {
   "cell_type": "code",
   "execution_count": 9,
   "id": "68cf0c92",
   "metadata": {},
   "outputs": [],
   "source": [
    "query = '''\n",
    "SELECT *\n",
    "FROM nppes\n",
    "LIMIT 20;\n",
    "'''"
   ]
  },
  {
   "cell_type": "code",
   "execution_count": 17,
   "id": "69456703",
   "metadata": {},
   "outputs": [],
   "source": [
    "with sqlite3.connect('Hop_Teaming_2018.sqlite') as db: \n",
    "    Nashville_sqlite = pd.read_sql(query, db)"
   ]
  },
  {
   "cell_type": "code",
   "execution_count": 18,
   "id": "616fd01d",
   "metadata": {},
   "outputs": [
    {
     "data": {
      "text/html": [
       "<div>\n",
       "<style scoped>\n",
       "    .dataframe tbody tr th:only-of-type {\n",
       "        vertical-align: middle;\n",
       "    }\n",
       "\n",
       "    .dataframe tbody tr th {\n",
       "        vertical-align: top;\n",
       "    }\n",
       "\n",
       "    .dataframe thead th {\n",
       "        text-align: right;\n",
       "    }\n",
       "</style>\n",
       "<table border=\"1\" class=\"dataframe\">\n",
       "  <thead>\n",
       "    <tr style=\"text-align: right;\">\n",
       "      <th></th>\n",
       "      <th>specialization</th>\n",
       "      <th>provider_organization_name_(legal_business_name)</th>\n",
       "      <th>patients_referral</th>\n",
       "    </tr>\n",
       "  </thead>\n",
       "  <tbody>\n",
       "    <tr>\n",
       "      <th>0</th>\n",
       "      <td>Anatomic Pathology &amp; Clinical Pathology</td>\n",
       "      <td>ASSOCIATED PATHOLOGISTS, LLC</td>\n",
       "      <td>358401</td>\n",
       "    </tr>\n",
       "    <tr>\n",
       "      <th>1</th>\n",
       "      <td>Anatomic Pathology &amp; Clinical Pathology</td>\n",
       "      <td>ASSOCIATED PATHOLOGISTS LLC</td>\n",
       "      <td>304988</td>\n",
       "    </tr>\n",
       "    <tr>\n",
       "      <th>2</th>\n",
       "      <td>Anatomic Pathology &amp; Clinical Pathology</td>\n",
       "      <td>PATHGROUP LABS, LLC</td>\n",
       "      <td>212407</td>\n",
       "    </tr>\n",
       "    <tr>\n",
       "      <th>3</th>\n",
       "      <td>Diagnostic Radiology</td>\n",
       "      <td>VANDERBILT UNIVERSITY MEDICAL CENTER</td>\n",
       "      <td>201804</td>\n",
       "    </tr>\n",
       "    <tr>\n",
       "      <th>4</th>\n",
       "      <td>Diagnostic Radiology</td>\n",
       "      <td>RADIOLOGY ALLIANCE PC</td>\n",
       "      <td>201363</td>\n",
       "    </tr>\n",
       "    <tr>\n",
       "      <th>...</th>\n",
       "      <td>...</td>\n",
       "      <td>...</td>\n",
       "      <td>...</td>\n",
       "    </tr>\n",
       "    <tr>\n",
       "      <th>95</th>\n",
       "      <td>Anatomic Pathology &amp; Clinical Pathology</td>\n",
       "      <td>COLUMBIA MEDICAL GROUP - THE FRIST CLINIC INC</td>\n",
       "      <td>13657</td>\n",
       "    </tr>\n",
       "    <tr>\n",
       "      <th>96</th>\n",
       "      <td>Diagnostic Radiology</td>\n",
       "      <td>FIRST CALL AMBULANCE SERVICE, LLC</td>\n",
       "      <td>13612</td>\n",
       "    </tr>\n",
       "    <tr>\n",
       "      <th>97</th>\n",
       "      <td>Psychiatric/Mental Health</td>\n",
       "      <td>WELLNESS SOLUTIONS GERIATRICS, PLLC</td>\n",
       "      <td>13527</td>\n",
       "    </tr>\n",
       "    <tr>\n",
       "      <th>98</th>\n",
       "      <td>Pulmonary Disease</td>\n",
       "      <td>SAINT THOMAS WEST HOSPITAL</td>\n",
       "      <td>13297</td>\n",
       "    </tr>\n",
       "    <tr>\n",
       "      <th>99</th>\n",
       "      <td>Diagnostic Radiology</td>\n",
       "      <td>INTEGUMETRIX</td>\n",
       "      <td>13141</td>\n",
       "    </tr>\n",
       "  </tbody>\n",
       "</table>\n",
       "<p>100 rows × 3 columns</p>\n",
       "</div>"
      ],
      "text/plain": [
       "                             specialization  \\\n",
       "0   Anatomic Pathology & Clinical Pathology   \n",
       "1   Anatomic Pathology & Clinical Pathology   \n",
       "2   Anatomic Pathology & Clinical Pathology   \n",
       "3                      Diagnostic Radiology   \n",
       "4                      Diagnostic Radiology   \n",
       "..                                      ...   \n",
       "95  Anatomic Pathology & Clinical Pathology   \n",
       "96                     Diagnostic Radiology   \n",
       "97                Psychiatric/Mental Health   \n",
       "98                        Pulmonary Disease   \n",
       "99                     Diagnostic Radiology   \n",
       "\n",
       "   provider_organization_name_(legal_business_name)  patients_referral  \n",
       "0                      ASSOCIATED PATHOLOGISTS, LLC             358401  \n",
       "1                       ASSOCIATED PATHOLOGISTS LLC             304988  \n",
       "2                               PATHGROUP LABS, LLC             212407  \n",
       "3              VANDERBILT UNIVERSITY MEDICAL CENTER             201804  \n",
       "4                             RADIOLOGY ALLIANCE PC             201363  \n",
       "..                                              ...                ...  \n",
       "95    COLUMBIA MEDICAL GROUP - THE FRIST CLINIC INC              13657  \n",
       "96                FIRST CALL AMBULANCE SERVICE, LLC              13612  \n",
       "97              WELLNESS SOLUTIONS GERIATRICS, PLLC              13527  \n",
       "98                       SAINT THOMAS WEST HOSPITAL              13297  \n",
       "99                                     INTEGUMETRIX              13141  \n",
       "\n",
       "[100 rows x 3 columns]"
      ]
     },
     "execution_count": 18,
     "metadata": {},
     "output_type": "execute_result"
    }
   ],
   "source": [
    "Nashville_sqlite"
   ]
  },
  {
   "cell_type": "code",
   "execution_count": null,
   "id": "b68053d4",
   "metadata": {},
   "outputs": [],
   "source": []
  }
 ],
 "metadata": {
  "kernelspec": {
   "display_name": "Python 3 (ipykernel)",
   "language": "python",
   "name": "python3"
  },
  "language_info": {
   "codemirror_mode": {
    "name": "ipython",
    "version": 3
   },
   "file_extension": ".py",
   "mimetype": "text/x-python",
   "name": "python",
   "nbconvert_exporter": "python",
   "pygments_lexer": "ipython3",
   "version": "3.9.7"
  }
 },
 "nbformat": 4,
 "nbformat_minor": 5
}
